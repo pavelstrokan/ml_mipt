{
 "cells": [
  {
   "cell_type": "markdown",
   "metadata": {},
   "source": [
    "# I"
   ]
  },
  {
   "cell_type": "markdown",
   "metadata": {},
   "source": [
    "Воспользуемся равенствами:\n",
    "\n",
    "$P(y)=const$ (по условию)\n",
    "\n",
    "$P(x|y) = \\prod\\limits_{k} P(x_k|y)$ (наивный байес)\n",
    "\n",
    "Тогда получим:"
   ]
  },
  {
   "cell_type": "markdown",
   "metadata": {},
   "source": [
    "$\\underset{y}{\\operatorname{argmax}}P(x|y)P(y)$\n",
    "\n",
    "$\\underset{y}{\\operatorname{argmax}}P(x|y)$\n",
    "\n",
    "$\\underset{y}{\\operatorname{argmax}}\\prod\\limits_{k} e^{-(x_k-\\mu_{yk})^2}$\n",
    "\n",
    "$\\underset{y}{\\operatorname{argmax}} e^{-\\sum\\limits_{k}(x_k-\\mu_{yk})^2}$\n",
    "\n",
    "$\\underset{y}{\\operatorname{argmin}} \\sum\\limits_{k}(x_k-\\mu_{yk})^2$\n",
    "\n",
    "$\\underset{y}{\\operatorname{argmin}} \\rho(x, y)$\n",
    "\n"
   ]
  },
  {
   "cell_type": "markdown",
   "metadata": {},
   "source": [
    "# II\n",
    "\n"
   ]
  },
  {
   "cell_type": "markdown",
   "metadata": {},
   "source": [
    "Пусть алгоритм предсказывает первый класс с вероятностью $p$, второй - с $1 - p$. Тогда $TPR$ и $FPR$ как доли правильно угаданных единиц и неправильно угаданных нулей, запишутся следующим образом:\n",
    "\n",
    "$TPR = \\frac{TP}{TP + FN} = \\frac{TP}{P}$\n",
    "\n",
    "$FPR = \\frac{FP}{TN + FP} = \\frac{FP}{N}$\n",
    "\n",
    "Матожидание положения точки тогда будет равным:\n",
    "\n",
    "$(x,y) = (E(TPR), E(FPR)) = (p, p)$"
   ]
  },
  {
   "cell_type": "markdown",
   "metadata": {},
   "source": [
    "Значит, точка на $ROC$-плоскости лежит на прямой $y=x$, т.е. на одной прямой с $(0,0)$ и $(1,1)$, а значит средняя $AUC$ равна площади тр-ка и равна $\\frac{1}{2}$ и не зависит от $p$ или доли первого класса в выборке."
   ]
  }
 ],
 "metadata": {
  "kernelspec": {
   "display_name": "Python 2",
   "language": "python",
   "name": "python2"
  },
  "language_info": {
   "codemirror_mode": {
    "name": "ipython",
    "version": 2
   },
   "file_extension": ".py",
   "mimetype": "text/x-python",
   "name": "python",
   "nbconvert_exporter": "python",
   "pygments_lexer": "ipython2",
   "version": "2.7.13"
  }
 },
 "nbformat": 4,
 "nbformat_minor": 2
}
