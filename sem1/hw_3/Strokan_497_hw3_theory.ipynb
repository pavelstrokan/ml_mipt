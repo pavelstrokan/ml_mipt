{
 "cells": [
  {
   "cell_type": "markdown",
   "metadata": {},
   "source": [
    "# 2.1 > pdf.1"
   ]
  },
  {
   "cell_type": "markdown",
   "metadata": {},
   "source": [
    "# 2.2 > pdf.3"
   ]
  },
  {
   "cell_type": "markdown",
   "metadata": {},
   "source": [
    "# 2.3"
   ]
  },
  {
   "cell_type": "markdown",
   "metadata": {},
   "source": [
    "$D(\\overline X) = \\frac{1}{n^2}cov(\\Sigma, \\Sigma) = \\frac{1}{n^2}(n\\sigma^2 + n(n-1)\\rho\\sigma^2) = \\frac{1}{n}\\sigma^2 + \\rho\\sigma^2 - \\frac{1}{n}\\rho\\sigma^2 = \\rho\\sigma^2 + (1 - \\rho)\\frac{\\sigma^2}{n}$"
   ]
  }
 ],
 "metadata": {
  "kernelspec": {
   "display_name": "Python 2",
   "language": "python",
   "name": "python2"
  },
  "language_info": {
   "codemirror_mode": {
    "name": "ipython",
    "version": 2
   },
   "file_extension": ".py",
   "mimetype": "text/x-python",
   "name": "python",
   "nbconvert_exporter": "python",
   "pygments_lexer": "ipython2",
   "version": "2.7.13"
  }
 },
 "nbformat": 4,
 "nbformat_minor": 2
}
