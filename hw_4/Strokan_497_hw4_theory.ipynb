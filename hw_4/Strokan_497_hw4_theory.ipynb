{
 "cells": [
  {
   "cell_type": "markdown",
   "metadata": {},
   "source": [
    "# II"
   ]
  },
  {
   "cell_type": "markdown",
   "metadata": {},
   "source": [
    "2) В предположении, что веса изначально имеют некоторое априорное распределение $p(w; \\gamma)$ ($\\gamma$ - гиперпараметр), а выборка получается из совместной плотности $p(x,y|w)$, получаем, что исходная задача оптимизации приводит к одному результату с методом максимального правдоподобия следующим образом:\n",
    "\n",
    "$L(y_i, f(x_i,w)) = -lnp(x_i, y_i|w)$\n",
    "\n",
    "$\\gamma V(w) = lnp(w;\\gamma)$"
   ]
  },
  {
   "cell_type": "markdown",
   "metadata": {},
   "source": [
    "# III"
   ]
  },
  {
   "cell_type": "markdown",
   "metadata": {},
   "source": [
    "3) Положим веса удовлетворяющими\n",
    "\n",
    "$\n",
    "\\min\\limits_{i=1=..l}= y_i(<w,x_i> - w_0) = 1\n",
    "$\n",
    "\n",
    "Ширина полосы равна:\n",
    "$\n",
    "<(x_+ - x_-), \\frac{w}{||w||}> = \\frac{2}{||w||}\n",
    "$\n",
    ", где $x_+$ и $x_-$ - точки на границе полосы. Тогда, в случае неразделимой выборки, получаем:\n",
    "\n",
    "$$ \\left\\{\n",
    "\\begin{aligned}\n",
    "<w,w> \\to min\\\\\n",
    "y_i(<w,x_i> - w_0) \\ge 1, i = 1..l\\\\\n",
    "\\end{aligned}\n",
    "\\right. $$\n",
    "\n",
    "$$ \\left\\{\n",
    "\\begin{aligned}\n",
    "\\frac{1}{2}<w,w> + C\\sum_{i=1}^l \\xi_i \\to min\\\\\n",
    "y_i(<w,x_i> - w_0) \\ge 1 - \\xi_i, i = 1..l\\\\\n",
    "\\xi_i \\ge 0, i = 1..l\\\\\n",
    "\\end{aligned}\n",
    "\\right. $$\n",
    "\n",
    "Перепишем:\n",
    "\n",
    "$M_i = y_i(<w,x_i> - w_0)$\n",
    "\n",
    "$\n",
    "\\xi_i \\ge 0\n",
    "$\n",
    "\n",
    "$\n",
    "\\xi_i \\ge 1 - M_i\n",
    "$\n",
    "\n",
    "$\n",
    "\\sum_{i=1}^l \\xi_i \\to min\n",
    "$\n",
    "\n",
    "Или \n",
    "\n",
    "$\n",
    "\\xi_i = (1 - M_i)_+\n",
    "$\n",
    "\n",
    "и\n",
    "\n",
    "$\n",
    "Q(w,w_0) = \\sum_{i=1}^l (1-M_i(w,w_0))_+ + \\frac{1}{2C}<w,w> \\to \\min\\limits_{w,w_0}\n",
    "$\n"
   ]
  },
  {
   "cell_type": "markdown",
   "metadata": {},
   "source": [
    "# IV"
   ]
  },
  {
   "cell_type": "markdown",
   "metadata": {},
   "source": [
    "\n",
    "Нетрудно понять, что для получения $(x_1^2, x_2^2)$ нужно, чтобы $K$  содержало квадрат. Тогда простейший вариант - $K(r) = r^2$ получаем: $x_1^2 + 2x_1x_2 + x_2^2$ и размерность $3$ - $(x_1^2; \\sqrt{2}x_1x_2; x_2^2)$."
   ]
  }
 ],
 "metadata": {
  "kernelspec": {
   "display_name": "Python 2",
   "language": "python",
   "name": "python2"
  },
  "language_info": {
   "codemirror_mode": {
    "name": "ipython",
    "version": 2
   },
   "file_extension": ".py",
   "mimetype": "text/x-python",
   "name": "python",
   "nbconvert_exporter": "python",
   "pygments_lexer": "ipython2",
   "version": "2.7.13"
  }
 },
 "nbformat": 4,
 "nbformat_minor": 2
}
