{
 "cells": [
  {
   "cell_type": "markdown",
   "metadata": {},
   "source": [
    "# I\n",
    "\n",
    "Пусть $a(x) = \\overline{y}$. Тогда \n",
    "\n",
    "$E_1 = \\frac{1}{n}\\sum\\limits_{k}(\\overline{y}-y_k)^2$\n",
    "\n",
    "\n",
    "Если же $a(x)$ выбирается равновероятно по известным ответам в листе, то пусть\n",
    "\n",
    "$\\xi$ - сл. величина, полученный ответ, тогда $E\\xi=\\sum\\limits_{k}y_kP(\\xi=y_k)=\\frac{1}{n}\\sum\\limits_{k}y_k=\\overline{y}$\n",
    "$E_2 = E\\frac{1}{n}\\sum\\limits_{k}(\\xi-y_k)^2 = \\frac{1}{n}\\sum\\limits_{k}E(\\xi-y_k)^2 = \\frac{1}{n}\\sum\\limits_{k}E\\xi^2-2y_kE\\xi+y_k^2 = E\\xi^2 + \\frac{1}{n}\\sum\\limits_{k}(\\overline{y}-y_k)^2 - (E\\xi)^2 = E_1 + D\\xi \\geq E_1$ \n",
    "\n",
    "\n"
   ]
  },
  {
   "cell_type": "markdown",
   "metadata": {
    "collapsed": true
   },
   "source": [
    "# III\n",
    "\n",
    "$f(x)lnf(x) = \\frac{1}{2} [ln(2\\pi)^k|\\Sigma| + (x-\\mu)^T\\Sigma^{-1}(x-\\mu) ] f(x)$\n",
    "\n",
    "Значит, соответствующий интеграл по $\\mathbb{R^n}$ будет равен (с учетом $\\int\\limits_{\\mathbb{R^n}}f = 1$):\n",
    "\n",
    "$\\frac{1}{2}ln{(2\\pi)^k|\\Sigma|} + E(x-\\mu)^T\\Sigma^{-1}(x-\\mu)$\n",
    "\n",
    "Второе слагаемое равно\n",
    "\n",
    "$\\sum\\limits_{i,j}{E(x_i-\\mu_i)\\sigma^{-1}_{ij}(x_j-\\mu_j)}=\\sum\\limits_{i,j}\\sigma^{-1}_{ij}{E(x_i-\\mu_i)(x_j-\\mu_j)}=\\sum\\limits_{i,j}\\sigma^{-1}_{ij}{cov(x_i, x_j)}=\\sum\\limits_{i,j}\\sigma^{-1}_{ij}{\\sigma_{ij}}=\\sum\\limits_{i,j}\\sigma^{-1}_{ij}{\\sigma_{ji}}=\\sum\\limits_{i}\\sum\\limits_{j}\\sigma^{-1}_{ij}{\\sigma_{ji}}=\\sum\\limits_{i}1=k$\n",
    "\n",
    "Итого, получим $\\frac{1}{2}ln{(2\\pi)^k|\\Sigma|}+k=\\frac{1}{2}ln{(2\\pi e)^k|\\Sigma|}$"
   ]
  },
  {
   "cell_type": "code",
   "execution_count": null,
   "metadata": {
    "collapsed": true
   },
   "outputs": [],
   "source": []
  }
 ],
 "metadata": {
  "kernelspec": {
   "display_name": "Python 2",
   "language": "python",
   "name": "python2"
  },
  "language_info": {
   "codemirror_mode": {
    "name": "ipython",
    "version": 2
   },
   "file_extension": ".py",
   "mimetype": "text/x-python",
   "name": "python",
   "nbconvert_exporter": "python",
   "pygments_lexer": "ipython2",
   "version": "2.7.13"
  }
 },
 "nbformat": 4,
 "nbformat_minor": 2
}
