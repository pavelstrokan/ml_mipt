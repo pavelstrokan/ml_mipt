{
 "cells": [
  {
   "cell_type": "markdown",
   "metadata": {},
   "source": [
    "# Simple q-learning agent with experience replay\n",
    "\n",
    "We re-write q-learning algorithm using _agentnet_ - a helper for lasagne that implements some RL techniques."
   ]
  },
  {
   "cell_type": "code",
   "execution_count": null,
   "metadata": {
    "collapsed": true
   },
   "outputs": [],
   "source": [
    "! pip install --upgrade https://github.com/yandexdataschool/AgentNet/archive/master.zip"
   ]
  },
  {
   "cell_type": "code",
   "execution_count": 1,
   "metadata": {},
   "outputs": [
    {
     "name": "stdout",
     "output_type": "stream",
     "text": [
      "env: THEANO_FLAGS='floatX=float32'\n"
     ]
    }
   ],
   "source": [
    "import matplotlib.pyplot as plt\n",
    "%matplotlib inline\n",
    "import numpy as np\n",
    "%env THEANO_FLAGS='floatX=float32'\n",
    "\n",
    "#XVFB will be launched if you run on a server\n",
    "import os\n",
    "if type(os.environ.get(\"DISPLAY\")) is not str or len(os.environ.get(\"DISPLAY\"))==0:\n",
    "    !bash ../xvfb start\n",
    "    %env DISPLAY=:1"
   ]
  },
  {
   "cell_type": "markdown",
   "metadata": {},
   "source": [
    "### Experiment setup\n",
    "* Here we simply load the game and check that it works"
   ]
  },
  {
   "cell_type": "code",
   "execution_count": 2,
   "metadata": {},
   "outputs": [
    {
     "name": "stderr",
     "output_type": "stream",
     "text": [
      "[2017-12-08 20:50:33,724] Making new env: LunarLander-v2\n"
     ]
    }
   ],
   "source": [
    "import gym\n",
    "make_env = lambda: gym.make(\"LunarLander-v2\")\n",
    "\n",
    "env=make_env()\n",
    "env.reset()\n",
    "\n",
    "state_shape = env.observation_space.shape\n",
    "n_actions = env.action_space.n"
   ]
  },
  {
   "cell_type": "code",
   "execution_count": 3,
   "metadata": {},
   "outputs": [
    {
     "data": {
      "image/png": "[encoded data removed]",
      "text/plain": [
       "<matplotlib.figure.Figure at 0x7f12fc778198>"
      ]
     },
     "metadata": {},
     "output_type": "display_data"
    }
   ],
   "source": [
    "plt.imshow(env.render(\"rgb_array\"))\n",
    "del env"
   ]
  },
  {
   "cell_type": "markdown",
   "metadata": {},
   "source": [
    "# Neural Network body"
   ]
  },
  {
   "cell_type": "code",
   "execution_count": 5,
   "metadata": {},
   "outputs": [],
   "source": [
    "import lasagne\n",
    "from lasagne.layers import *\n",
    "from lasagne.nonlinearities import elu, rectify\n",
    "\n",
    "\n",
    "#image observation at current tick goes here, shape = (sample_i,x,y,color)\n",
    "observation_layer = InputLayer((None,)+state_shape)\n",
    "\n",
    "\n",
    "nn = DenseLayer(observation_layer, 100, nonlinearity=elu)\n",
    "nn = DenseLayer(nn, 200, nonlinearity=elu)\n",
    "#nn = DenseLayer(nn, 100, nonlinearity=elu)\n",
    "\n",
    "#a layer that predicts Qvalues\n",
    "qvalues_layer = DenseLayer(nn,num_units=n_actions,\n",
    "                           nonlinearity=None,name=\"q-values\")"
   ]
  },
  {
   "cell_type": "markdown",
   "metadata": {},
   "source": [
    "Picking actions is done by yet another layer, that implements $ \\epsilon$ -greedy policy"
   ]
  },
  {
   "cell_type": "code",
   "execution_count": 6,
   "metadata": {
    "collapsed": true
   },
   "outputs": [],
   "source": [
    "from agentnet.resolver import EpsilonGreedyResolver\n",
    "action_layer = EpsilonGreedyResolver(qvalues_layer)\n",
    "\n",
    "#set starting epsilon\n",
    "action_layer.epsilon.set_value(np.float32(0.05))\n"
   ]
  },
  {
   "cell_type": "markdown",
   "metadata": {},
   "source": [
    "### Agent\n",
    "\n",
    "We define an agent entirely composed of a lasagne network:\n",
    "* Observations as InputLayer(s)\n",
    "* Actions as intermediate Layer(s)\n",
    "* `policy_estimators` is \"whatever else you want to keep track of\"\n",
    "\n",
    "Each parameter can be either one layer or a list of layers"
   ]
  },
  {
   "cell_type": "code",
   "execution_count": 7,
   "metadata": {
    "collapsed": true
   },
   "outputs": [],
   "source": [
    "from agentnet.agent import Agent\n",
    "agent = Agent(observation_layers=observation_layer,\n",
    "              action_layers=action_layer,\n",
    "              policy_estimators=qvalues_layer,)"
   ]
  },
  {
   "cell_type": "code",
   "execution_count": 8,
   "metadata": {},
   "outputs": [
    {
     "data": {
      "text/plain": [
       "[W, b, W, b, q-values.W, q-values.b]"
      ]
     },
     "execution_count": 8,
     "metadata": {},
     "output_type": "execute_result"
    }
   ],
   "source": [
    "#Since it's a single lasagne network, one can get it's weights, output, etc\n",
    "weights = lasagne.layers.get_all_params(action_layer,trainable=True)\n",
    "weights"
   ]
  },
  {
   "cell_type": "markdown",
   "metadata": {},
   "source": [
    "# Create and manage a pool of atari sessions to play with\n",
    "\n",
    "* To make training more stable, we shall have an entire batch of game sessions each happening independent of others\n",
    "* Why several parallel agents help training: http://arxiv.org/pdf/1602.01783v1.pdf\n",
    "* Alternative approach: store more sessions: https://www.cs.toronto.edu/~vmnih/docs/dqn.pdf"
   ]
  },
  {
   "cell_type": "code",
   "execution_count": 9,
   "metadata": {},
   "outputs": [
    {
     "name": "stderr",
     "output_type": "stream",
     "text": [
      "[2017-12-08 20:51:12,578] Making new env: LunarLander-v2\n"
     ]
    }
   ],
   "source": [
    "from agentnet.experiments.openai_gym.pool import EnvPool\n",
    "pool = EnvPool(agent,make_env,n_games=1,max_size=10000)"
   ]
  },
  {
   "cell_type": "code",
   "execution_count": 10,
   "metadata": {},
   "outputs": [
    {
     "name": "stdout",
     "output_type": "stream",
     "text": [
      "actions: [[3 3 3 3 0]]\n",
      "rewards: [[ 0.2290176  -0.15376662 -0.43129095 -0.6716824   0.        ]]\n",
      "CPU times: user 8 ms, sys: 0 ns, total: 8 ms\n",
      "Wall time: 8.08 ms\n"
     ]
    }
   ],
   "source": [
    "%%time\n",
    "#interact for 7 ticks\n",
    "obs_log,action_log,reward_log,_,_,_  = pool.interact(5)\n",
    "\n",
    "\n",
    "print('actions:',action_log)\n",
    "print('rewards:',reward_log)"
   ]
  },
  {
   "cell_type": "code",
   "execution_count": 11,
   "metadata": {
    "collapsed": true
   },
   "outputs": [],
   "source": [
    "#we'll train on rollouts of 10 steps (required by n-step algorithms and rnns later)\n",
    "SEQ_LENGTH=10\n",
    "\n",
    "#load first sessions (this function calls interact and stores sessions in the pool)\n",
    "\n",
    "for _ in range(100):\n",
    "    pool.update(SEQ_LENGTH)"
   ]
  },
  {
   "cell_type": "markdown",
   "metadata": {},
   "source": [
    "# q-learning\n",
    "\n",
    "We shall now define a function that replays recent game sessions and updates network weights"
   ]
  },
  {
   "cell_type": "code",
   "execution_count": 12,
   "metadata": {
    "collapsed": true
   },
   "outputs": [],
   "source": [
    "#get agent's Qvalues obtained via experience replay\n",
    "replay = pool.experience_replay.sample_session_batch(100)\n",
    "qvalues_seq = agent.get_sessions(\n",
    "    replay,\n",
    "    session_length=SEQ_LENGTH,\n",
    "    experience_replay=True,\n",
    ")[-1]\n",
    "\n"
   ]
  },
  {
   "cell_type": "code",
   "execution_count": 13,
   "metadata": {
    "collapsed": true
   },
   "outputs": [],
   "source": [
    "#loss for Qlearning = (Q(s,a) - (r+gamma*Q(s',a_max)))^2, like you implemented before in lasagne.\n",
    "\n",
    "from agentnet.learning import qlearning\n",
    "elwise_mse_loss = qlearning.get_elementwise_objective(qvalues_seq,\n",
    "                                                      replay.actions[0],\n",
    "                                                      replay.rewards,\n",
    "                                                      replay.is_alive,\n",
    "                                                      gamma_or_gammas=0.99,\n",
    "                                                      n_steps=1,)\n",
    "\n",
    "#compute mean loss over \"alive\" fragments\n",
    "loss = elwise_mse_loss.sum() / replay.is_alive.sum()"
   ]
  },
  {
   "cell_type": "code",
   "execution_count": 14,
   "metadata": {
    "collapsed": true
   },
   "outputs": [],
   "source": [
    "#get weight updates\n",
    "updates = lasagne.updates.adam(loss,weights,learning_rate=1e-4)\n",
    "\n",
    "#compile train function\n",
    "import theano\n",
    "train_step = theano.function([],loss,updates=updates)"
   ]
  },
  {
   "cell_type": "markdown",
   "metadata": {},
   "source": [
    "# Demo run\n",
    "\n",
    "Play full session with an untrained agent"
   ]
  },
  {
   "cell_type": "code",
   "execution_count": 15,
   "metadata": {},
   "outputs": [
    {
     "name": "stderr",
     "output_type": "stream",
     "text": [
      "[2017-12-08 20:51:28,935] Making new env: LunarLander-v2\n",
      "[2017-12-08 20:51:28,939] Clearing 2 monitor files from previous run (because force=True was provided)\n",
      "[2017-12-08 20:51:28,943] Starting new video recorder writing to /home/anatoly/ML/Ml-mipt/Ml-mipt/2_semester/hw-5/records/openaigym.video.0.3429.video000000.mp4\n",
      "[2017-12-08 20:51:31,673] Finished writing results. You can upload them to the scoreboard via gym.upload('/home/anatoly/ML/Ml-mipt/Ml-mipt/2_semester/hw-5/records')\n"
     ]
    },
    {
     "name": "stdout",
     "output_type": "stream",
     "text": [
      "Episode finished after 74 timesteps with reward=-260.3938975283751\n"
     ]
    }
   ],
   "source": [
    "#for MountainCar-v0 evaluation session is cropped to 200 ticks\n",
    "untrained_reward = pool.evaluate(save_path=\"./records\",record_video=True)"
   ]
  },
  {
   "cell_type": "code",
   "execution_count": 16,
   "metadata": {},
   "outputs": [
    {
     "data": {
      "text/html": [
       "\n",
       "<video width=\"640\" height=\"480\" controls>\n",
       "  <source src=\"./records/openaigym.video.0.3429.video000000.mp4\" type=\"video/mp4\">\n",
       "</video>\n"
      ],
      "text/plain": [
       "<IPython.core.display.HTML object>"
      ]
     },
     "execution_count": 16,
     "metadata": {},
     "output_type": "execute_result"
    }
   ],
   "source": [
    "#show video\n",
    "from IPython.display import HTML\n",
    "import os\n",
    "\n",
    "video_names = list(filter(lambda s:s.endswith(\".mp4\"),os.listdir(\"./records/\")))\n",
    "\n",
    "HTML(\"\"\"\n",
    "<video width=\"640\" height=\"480\" controls>\n",
    "  <source src=\"{}\" type=\"video/mp4\">\n",
    "</video>\n",
    "\"\"\".format(\"./records/\"+video_names[-1])) #this may or may not be _last_ video. Try other indices"
   ]
  },
  {
   "cell_type": "markdown",
   "metadata": {},
   "source": [
    "# Training loop"
   ]
  },
  {
   "cell_type": "code",
   "execution_count": 17,
   "metadata": {
    "collapsed": true
   },
   "outputs": [],
   "source": [
    "epoch_counter = 1 #starting epoch\n",
    "rewards = {} #full game rewards\n",
    "target_score = 0"
   ]
  },
  {
   "cell_type": "code",
   "execution_count": 18,
   "metadata": {
    "scrolled": true
   },
   "outputs": [
    {
     "name": "stderr",
     "output_type": "stream",
     "text": [
      "  0%|          | 97/25000 [00:03<14:44, 28.17it/s][2017-12-08 20:51:40,805] Making new env: LunarLander-v2\n",
      "[2017-12-08 20:51:40,808] Clearing 4 monitor files from previous run (because force=True was provided)\n",
      "[2017-12-08 20:51:40,994] Finished writing results. You can upload them to the scoreboard via gym.upload('/home/anatoly/ML/Ml-mipt/Ml-mipt/2_semester/hw-5/records')\n",
      "  0%|          | 100/25000 [00:03<15:31, 26.74it/s]"
     ]
    },
    {
     "name": "stdout",
     "output_type": "stream",
     "text": [
      "Episode finished after 74 timesteps with reward=-182.3353347089688\n",
      "Episode finished after 93 timesteps with reward=-237.91799562123322\n",
      "Episode finished after 146 timesteps with reward=-97.38810103335827\n",
      "iter=100\tepsilon=0.910\n",
      "Current score(mean over 3) = -172.547\n"
     ]
    },
    {
     "name": "stderr",
     "output_type": "stream",
     "text": [
      "  1%|          | 199/25000 [00:07<16:34, 24.95it/s][2017-12-08 20:51:45,311] Making new env: LunarLander-v2\n",
      "[2017-12-08 20:51:45,313] Clearing 2 monitor files from previous run (because force=True was provided)\n",
      "[2017-12-08 20:51:45,568] Finished writing results. You can upload them to the scoreboard via gym.upload('/home/anatoly/ML/Ml-mipt/Ml-mipt/2_semester/hw-5/records')\n"
     ]
    },
    {
     "name": "stdout",
     "output_type": "stream",
     "text": [
      "Episode finished after 67 timesteps with reward=-129.4683515262201\n",
      "Episode finished after 130 timesteps with reward=-281.8780338316393\n",
      "Episode finished after 84 timesteps with reward=-198.93086509212148\n",
      "iter=200\tepsilon=0.828\n",
      "Current score(mean over 3) = -203.426\n"
     ]
    },
    {
     "name": "stderr",
     "output_type": "stream",
     "text": [
      "  1%|          | 298/25000 [00:12<17:50, 23.08it/s][2017-12-08 20:51:50,268] Making new env: LunarLander-v2\n",
      "[2017-12-08 20:51:50,271] Clearing 2 monitor files from previous run (because force=True was provided)\n",
      "[2017-12-08 20:51:50,440] Finished writing results. You can upload them to the scoreboard via gym.upload('/home/anatoly/ML/Ml-mipt/Ml-mipt/2_semester/hw-5/records')\n",
      "  1%|          | 302/25000 [00:13<18:06, 22.72it/s]"
     ]
    },
    {
     "name": "stdout",
     "output_type": "stream",
     "text": [
      "Episode finished after 99 timesteps with reward=-118.43878254666123\n",
      "Episode finished after 100 timesteps with reward=-362.3816524843204\n",
      "Episode finished after 74 timesteps with reward=-189.11769429911618\n",
      "iter=300\tepsilon=0.754\n",
      "Current score(mean over 3) = -223.313\n"
     ]
    },
    {
     "name": "stderr",
     "output_type": "stream",
     "text": [
      "  2%|▏         | 399/25000 [00:18<18:32, 22.11it/s][2017-12-08 20:51:55,340] Making new env: LunarLander-v2\n",
      "[2017-12-08 20:51:55,343] Clearing 2 monitor files from previous run (because force=True was provided)\n",
      "[2017-12-08 20:51:55,574] Finished writing results. You can upload them to the scoreboard via gym.upload('/home/anatoly/ML/Ml-mipt/Ml-mipt/2_semester/hw-5/records')\n"
     ]
    },
    {
     "name": "stdout",
     "output_type": "stream",
     "text": [
      "Episode finished after 135 timesteps with reward=-292.54135850614705\n",
      "Episode finished after 136 timesteps with reward=-229.27658039592652\n",
      "Episode finished after 140 timesteps with reward=-256.13980141738057\n",
      "iter=400\tepsilon=0.687\n",
      "Current score(mean over 3) = -259.319\n"
     ]
    },
    {
     "name": "stderr",
     "output_type": "stream",
     "text": [
      "  2%|▏         | 497/25000 [00:23<19:35, 20.84it/s][2017-12-08 20:52:01,228] Making new env: LunarLander-v2\n",
      "[2017-12-08 20:52:01,230] Clearing 2 monitor files from previous run (because force=True was provided)\n",
      "[2017-12-08 20:52:01,433] Finished writing results. You can upload them to the scoreboard via gym.upload('/home/anatoly/ML/Ml-mipt/Ml-mipt/2_semester/hw-5/records')\n",
      "  2%|▏         | 500/25000 [00:24<19:44, 20.68it/s]"
     ]
    },
    {
     "name": "stdout",
     "output_type": "stream",
     "text": [
      "Episode finished after 119 timesteps with reward=-422.602849881564\n",
      "Episode finished after 88 timesteps with reward=-39.43901544212363\n",
      "Episode finished after 151 timesteps with reward=-341.2962236280064\n",
      "iter=500\tepsilon=0.626\n",
      "Current score(mean over 3) = -267.779\n"
     ]
    },
    {
     "name": "stderr",
     "output_type": "stream",
     "text": [
      "  2%|▏         | 599/25000 [00:29<19:47, 20.56it/s][2017-12-08 20:52:06,444] Making new env: LunarLander-v2\n",
      "[2017-12-08 20:52:06,447] Clearing 2 monitor files from previous run (because force=True was provided)\n"
     ]
    },
    {
     "name": "stdout",
     "output_type": "stream",
     "text": [
      "Episode finished after 119 timesteps with reward=-364.30903684378046\n",
      "Episode finished after 130 timesteps with reward=-244.98801235221552\n"
     ]
    },
    {
     "name": "stderr",
     "output_type": "stream",
     "text": [
      "[2017-12-08 20:52:06,729] Finished writing results. You can upload them to the scoreboard via gym.upload('/home/anatoly/ML/Ml-mipt/Ml-mipt/2_semester/hw-5/records')\n",
      "  2%|▏         | 602/25000 [00:29<19:59, 20.34it/s]"
     ]
    },
    {
     "name": "stdout",
     "output_type": "stream",
     "text": [
      "Episode finished after 183 timesteps with reward=-521.1568056043973\n",
      "iter=600\tepsilon=0.571\n",
      "Current score(mean over 3) = -376.818\n"
     ]
    },
    {
     "name": "stderr",
     "output_type": "stream",
     "text": [
      "  3%|▎         | 698/25000 [00:34<20:00, 20.24it/s][2017-12-08 20:52:11,835] Making new env: LunarLander-v2\n",
      "[2017-12-08 20:52:11,838] Clearing 2 monitor files from previous run (because force=True was provided)\n",
      "[2017-12-08 20:52:12,015] Finished writing results. You can upload them to the scoreboard via gym.upload('/home/anatoly/ML/Ml-mipt/Ml-mipt/2_semester/hw-5/records')\n",
      "  3%|▎         | 701/25000 [00:34<20:06, 20.14it/s]"
     ]
    },
    {
     "name": "stdout",
     "output_type": "stream",
     "text": [
      "Episode finished after 108 timesteps with reward=-168.24830271418526\n",
      "Episode finished after 109 timesteps with reward=-295.516604558116\n",
      "Episode finished after 108 timesteps with reward=-216.76480733731688\n",
      "iter=700\tepsilon=0.522\n",
      "Current score(mean over 3) = -226.843\n"
     ]
    },
    {
     "name": "stderr",
     "output_type": "stream",
     "text": [
      "  3%|▎         | 799/25000 [00:39<20:08, 20.03it/s][2017-12-08 20:52:17,198] Making new env: LunarLander-v2\n",
      "[2017-12-08 20:52:17,200] Clearing 2 monitor files from previous run (because force=True was provided)\n",
      "[2017-12-08 20:52:17,751] Finished writing results. You can upload them to the scoreboard via gym.upload('/home/anatoly/ML/Ml-mipt/Ml-mipt/2_semester/hw-5/records')\n"
     ]
    },
    {
     "name": "stdout",
     "output_type": "stream",
     "text": [
      "Episode finished after 448 timesteps with reward=-282.0015012408473\n",
      "Episode finished after 131 timesteps with reward=-210.0065638427463\n",
      "Episode finished after 178 timesteps with reward=-444.9072116672536\n",
      "iter=800\tepsilon=0.477\n",
      "Current score(mean over 3) = -312.305\n"
     ]
    },
    {
     "name": "stderr",
     "output_type": "stream",
     "text": [
      "  4%|▎         | 899/25000 [00:45<20:29, 19.60it/s][2017-12-08 20:52:23,272] Making new env: LunarLander-v2\n",
      "[2017-12-08 20:52:23,275] Clearing 2 monitor files from previous run (because force=True was provided)\n",
      "[2017-12-08 20:52:23,510] Finished writing results. You can upload them to the scoreboard via gym.upload('/home/anatoly/ML/Ml-mipt/Ml-mipt/2_semester/hw-5/records')\n"
     ]
    },
    {
     "name": "stdout",
     "output_type": "stream",
     "text": [
      "Episode finished after 155 timesteps with reward=-383.9475611356298\n",
      "Episode finished after 92 timesteps with reward=-324.0457088847462\n",
      "Episode finished after 154 timesteps with reward=-293.8752375303958\n",
      "iter=900\tepsilon=0.436\n",
      "Current score(mean over 3) = -333.956\n"
     ]
    },
    {
     "name": "stderr",
     "output_type": "stream",
     "text": [
      "  4%|▍         | 999/25000 [00:53<21:23, 18.70it/s][2017-12-08 20:52:30,750] Making new env: LunarLander-v2\n",
      "[2017-12-08 20:52:30,753] Clearing 2 monitor files from previous run (because force=True was provided)\n",
      "[2017-12-08 20:52:31,099] Finished writing results. You can upload them to the scoreboard via gym.upload('/home/anatoly/ML/Ml-mipt/Ml-mipt/2_semester/hw-5/records')\n"
     ]
    },
    {
     "name": "stdout",
     "output_type": "stream",
     "text": [
      "Episode finished after 186 timesteps with reward=-498.6861637965374\n",
      "Episode finished after 184 timesteps with reward=-339.2790314682576\n",
      "Episode finished after 93 timesteps with reward=-208.07999202397946\n",
      "iter=1000\tepsilon=0.399"
     ]
    },
    {
     "name": "stderr",
     "output_type": "stream",
     "text": [
      "  4%|▍         | 1099/25000 [01:00<22:04, 18.05it/s][2017-12-08 20:52:38,218] Making new env: LunarLander-v2\n",
      "[2017-12-08 20:52:38,221] Clearing 2 monitor files from previous run (because force=True was provided)\n",
      "[2017-12-08 20:52:38,415] Finished writing results. You can upload them to the scoreboard via gym.upload('/home/anatoly/ML/Ml-mipt/Ml-mipt/2_semester/hw-5/records')\n",
      "  4%|▍         | 1101/25000 [01:01<22:09, 17.98it/s]"
     ]
    },
    {
     "name": "stdout",
     "output_type": "stream",
     "text": [
      "\n",
      "Current score(mean over 3) = -348.682\n",
      "Episode finished after 79 timesteps with reward=-297.559667361527\n",
      "Episode finished after 100 timesteps with reward=-267.10495254700777\n",
      "Episode finished after 103 timesteps with reward=-273.9036209844986\n",
      "iter=1100\tepsilon=0.366\n",
      "Current score(mean over 3) = -279.523\n"
     ]
    },
    {
     "name": "stderr",
     "output_type": "stream",
     "text": [
      "  5%|▍         | 1199/25000 [01:07<22:29, 17.63it/s][2017-12-08 20:52:45,333] Making new env: LunarLander-v2\n",
      "[2017-12-08 20:52:45,336] Clearing 2 monitor files from previous run (because force=True was provided)\n"
     ]
    },
    {
     "name": "stdout",
     "output_type": "stream",
     "text": [
      "Episode finished after 171 timesteps with reward=-317.5353811388573\n"
     ]
    },
    {
     "name": "stderr",
     "output_type": "stream",
     "text": [
      "[2017-12-08 20:52:45,758] Finished writing results. You can upload them to the scoreboard via gym.upload('/home/anatoly/ML/Ml-mipt/Ml-mipt/2_semester/hw-5/records')\n",
      "  5%|▍         | 1201/25000 [01:08<22:38, 17.52it/s]"
     ]
    },
    {
     "name": "stdout",
     "output_type": "stream",
     "text": [
      "Episode finished after 270 timesteps with reward=-536.6198836679994\n",
      "Episode finished after 96 timesteps with reward=-245.4021650494657\n",
      "iter=1200\tepsilon=0.336\n",
      "Current score(mean over 3) = -366.519\n"
     ]
    },
    {
     "name": "stderr",
     "output_type": "stream",
     "text": [
      "  5%|▌         | 1299/25000 [01:15<22:58, 17.20it/s][2017-12-08 20:52:52,874] Making new env: LunarLander-v2\n",
      "[2017-12-08 20:52:52,877] Clearing 2 monitor files from previous run (because force=True was provided)\n"
     ]
    },
    {
     "name": "stdout",
     "output_type": "stream",
     "text": [
      "Episode finished after 203 timesteps with reward=-357.3643100190861\n"
     ]
    },
    {
     "name": "stderr",
     "output_type": "stream",
     "text": [
      "[2017-12-08 20:52:53,409] Finished writing results. You can upload them to the scoreboard via gym.upload('/home/anatoly/ML/Ml-mipt/Ml-mipt/2_semester/hw-5/records')\n",
      "  5%|▌         | 1301/25000 [01:16<23:08, 17.07it/s]"
     ]
    },
    {
     "name": "stdout",
     "output_type": "stream",
     "text": [
      "Episode finished after 296 timesteps with reward=-997.8646839601582\n",
      "Episode finished after 137 timesteps with reward=-315.1292109376599\n",
      "iter=1300\tepsilon=0.309\n",
      "Current score(mean over 3) = -556.786\n"
     ]
    },
    {
     "name": "stderr",
     "output_type": "stream",
     "text": [
      "  6%|▌         | 1399/25000 [01:23<23:31, 16.72it/s][2017-12-08 20:53:01,028] Making new env: LunarLander-v2\n",
      "[2017-12-08 20:53:01,031] Clearing 2 monitor files from previous run (because force=True was provided)\n"
     ]
    },
    {
     "name": "stdout",
     "output_type": "stream",
     "text": [
      "Episode finished after 82 timesteps with reward=-327.05605510991205\n"
     ]
    },
    {
     "name": "stderr",
     "output_type": "stream",
     "text": [
      "[2017-12-08 20:53:01,603] Finished writing results. You can upload them to the scoreboard via gym.upload('/home/anatoly/ML/Ml-mipt/Ml-mipt/2_semester/hw-5/records')\n"
     ]
    },
    {
     "name": "stdout",
     "output_type": "stream",
     "text": [
      "Episode finished after 324 timesteps with reward=-1455.6092047320985\n",
      "Episode finished after 223 timesteps with reward=-861.4739606081109\n",
      "iter=1400\tepsilon=0.284\n",
      "Current score(mean over 3) = -881.380\n"
     ]
    },
    {
     "name": "stderr",
     "output_type": "stream",
     "text": [
      "  6%|▌         | 1499/25000 [01:32<24:15, 16.15it/s][2017-12-08 20:53:10,162] Making new env: LunarLander-v2\n",
      "[2017-12-08 20:53:10,165] Clearing 2 monitor files from previous run (because force=True was provided)\n"
     ]
    },
    {
     "name": "stdout",
     "output_type": "stream",
     "text": [
      "Episode finished after 297 timesteps with reward=-425.8115956607696\n"
     ]
    },
    {
     "name": "stderr",
     "output_type": "stream",
     "text": [
      "[2017-12-08 20:53:10,953] Finished writing results. You can upload them to the scoreboard via gym.upload('/home/anatoly/ML/Ml-mipt/Ml-mipt/2_semester/hw-5/records')\n",
      "  6%|▌         | 1501/25000 [01:33<24:28, 16.01it/s]"
     ]
    },
    {
     "name": "stdout",
     "output_type": "stream",
     "text": [
      "Episode finished after 378 timesteps with reward=-622.013288687512\n",
      "Episode finished after 146 timesteps with reward=-354.6999249049411\n",
      "iter=1500\tepsilon=0.262\n",
      "Current score(mean over 3) = -467.508\n"
     ]
    },
    {
     "name": "stderr",
     "output_type": "stream",
     "text": [
      "  6%|▋         | 1598/25000 [01:41<24:51, 15.69it/s][2017-12-08 20:53:19,259] Making new env: LunarLander-v2\n",
      "[2017-12-08 20:53:19,262] Clearing 2 monitor files from previous run (because force=True was provided)\n"
     ]
    },
    {
     "name": "stdout",
     "output_type": "stream",
     "text": [
      "Episode finished after 222 timesteps with reward=-375.5259628929023\n",
      "Episode finished after 226 timesteps with reward=-279.8417822833714\n"
     ]
    },
    {
     "name": "stderr",
     "output_type": "stream",
     "text": [
      "[2017-12-08 20:53:19,728] Finished writing results. You can upload them to the scoreboard via gym.upload('/home/anatoly/ML/Ml-mipt/Ml-mipt/2_semester/hw-5/records')\n",
      "  6%|▋         | 1602/25000 [01:42<24:58, 15.61it/s]"
     ]
    },
    {
     "name": "stdout",
     "output_type": "stream",
     "text": [
      "Episode finished after 187 timesteps with reward=-398.8208027882572\n",
      "iter=1600\tepsilon=0.242\n",
      "Current score(mean over 3) = -351.396\n"
     ]
    },
    {
     "name": "stderr",
     "output_type": "stream",
     "text": [
      "  7%|▋         | 1698/25000 [01:50<25:12, 15.40it/s][2017-12-08 20:53:27,674] Making new env: LunarLander-v2\n",
      "[2017-12-08 20:53:27,678] Clearing 2 monitor files from previous run (because force=True was provided)\n",
      "[2017-12-08 20:53:28,203] Finished writing results. You can upload them to the scoreboard via gym.upload('/home/anatoly/ML/Ml-mipt/Ml-mipt/2_semester/hw-5/records')\n",
      "  7%|▋         | 1700/25000 [01:50<25:20, 15.32it/s]"
     ]
    },
    {
     "name": "stdout",
     "output_type": "stream",
     "text": [
      "Episode finished after 375 timesteps with reward=-298.83871426016356\n",
      "Episode finished after 134 timesteps with reward=-259.23494991238505\n",
      "Episode finished after 78 timesteps with reward=-348.2710477005699\n",
      "iter=1700\tepsilon=0.224\n",
      "Current score(mean over 3) = -302.115\n"
     ]
    },
    {
     "name": "stderr",
     "output_type": "stream",
     "text": [
      "  7%|▋         | 1799/25000 [02:02<26:21, 14.67it/s][2017-12-08 20:53:40,005] Making new env: LunarLander-v2\n",
      "[2017-12-08 20:53:40,008] Clearing 2 monitor files from previous run (because force=True was provided)\n"
     ]
    },
    {
     "name": "stdout",
     "output_type": "stream",
     "text": [
      "Episode finished after 217 timesteps with reward=-302.67352352493697\n",
      "Episode finished after 339 timesteps with reward=-300.9691872982287\n"
     ]
    },
    {
     "name": "stderr",
     "output_type": "stream",
     "text": [
      "[2017-12-08 20:53:41,045] Finished writing results. You can upload them to the scoreboard via gym.upload('/home/anatoly/ML/Ml-mipt/Ml-mipt/2_semester/hw-5/records')\n",
      "  7%|▋         | 1801/25000 [02:03<26:36, 14.53it/s]"
     ]
    },
    {
     "name": "stdout",
     "output_type": "stream",
     "text": [
      "Episode finished after 414 timesteps with reward=-324.2044665471485\n",
      "iter=1800\tepsilon=0.207\n",
      "Current score(mean over 3) = -309.282\n"
     ]
    },
    {
     "name": "stderr",
     "output_type": "stream",
     "text": [
      "  8%|▊         | 1899/25000 [02:16<27:37, 13.94it/s][2017-12-08 20:53:53,626] Making new env: LunarLander-v2\n",
      "[2017-12-08 20:53:53,629] Clearing 2 monitor files from previous run (because force=True was provided)\n"
     ]
    },
    {
     "name": "stdout",
     "output_type": "stream",
     "text": [
      "Episode finished after 272 timesteps with reward=-289.7517047994424\n",
      "Episode finished after 412 timesteps with reward=-295.1476717680787\n"
     ]
    },
    {
     "name": "stderr",
     "output_type": "stream",
     "text": [
      "[2017-12-08 20:53:54,710] Finished writing results. You can upload them to the scoreboard via gym.upload('/home/anatoly/ML/Ml-mipt/Ml-mipt/2_semester/hw-5/records')\n",
      "  8%|▊         | 1902/25000 [02:17<27:51, 13.82it/s]"
     ]
    },
    {
     "name": "stdout",
     "output_type": "stream",
     "text": [
      "Episode finished after 280 timesteps with reward=-509.2438990585997\n",
      "iter=1900\tepsilon=0.192\n",
      "Current score(mean over 3) = -364.714\n"
     ]
    },
    {
     "name": "stderr",
     "output_type": "stream",
     "text": [
      "  8%|▊         | 1999/25000 [02:29<28:45, 13.33it/s][2017-12-08 20:54:07,345] Making new env: LunarLander-v2\n",
      "[2017-12-08 20:54:07,348] Clearing 2 monitor files from previous run (because force=True was provided)\n"
     ]
    },
    {
     "name": "stdout",
     "output_type": "stream",
     "text": [
      "Episode finished after 502 timesteps with reward=-456.03519078286416\n",
      "Episode finished after 85 timesteps with reward=-316.95791218428457\n"
     ]
    },
    {
     "name": "stderr",
     "output_type": "stream",
     "text": [
      "[2017-12-08 20:54:08,568] Finished writing results. You can upload them to the scoreboard via gym.upload('/home/anatoly/ML/Ml-mipt/Ml-mipt/2_semester/hw-5/records')\n",
      "  8%|▊         | 2001/25000 [02:31<29:00, 13.21it/s]"
     ]
    },
    {
     "name": "stdout",
     "output_type": "stream",
     "text": [
      "Episode finished after 432 timesteps with reward=-265.3287719393377\n",
      "iter=2000\tepsilon=0.179\n",
      "Current score(mean over 3) = -346.107\n"
     ]
    },
    {
     "name": "stderr",
     "output_type": "stream",
     "text": [
      "  8%|▊         | 2098/25000 [02:42<29:30, 12.93it/s][2017-12-08 20:54:19,656] Making new env: LunarLander-v2\n",
      "[2017-12-08 20:54:19,658] Clearing 2 monitor files from previous run (because force=True was provided)\n",
      "[2017-12-08 20:54:19,836] Finished writing results. You can upload them to the scoreboard via gym.upload('/home/anatoly/ML/Ml-mipt/Ml-mipt/2_semester/hw-5/records')\n",
      "  8%|▊         | 2100/25000 [02:42<29:32, 12.92it/s]"
     ]
    },
    {
     "name": "stdout",
     "output_type": "stream",
     "text": [
      "Episode finished after 91 timesteps with reward=-290.54299517007587\n",
      "Episode finished after 81 timesteps with reward=-309.9347691407462\n",
      "Episode finished after 95 timesteps with reward=-428.0127977075172\n",
      "iter=2100\tepsilon=0.166\n",
      "Current score(mean over 3) = -342.830\n"
     ]
    },
    {
     "name": "stderr",
     "output_type": "stream",
     "text": [
      "  9%|▉         | 2198/25000 [02:54<30:08, 12.61it/s][2017-12-08 20:54:31,796] Making new env: LunarLander-v2\n",
      "[2017-12-08 20:54:31,799] Clearing 2 monitor files from previous run (because force=True was provided)\n"
     ]
    },
    {
     "name": "stdout",
     "output_type": "stream",
     "text": [
      "Episode finished after 243 timesteps with reward=-402.7152285878749\n",
      "Episode finished after 384 timesteps with reward=-383.2564710000024\n"
     ]
    },
    {
     "name": "stderr",
     "output_type": "stream",
     "text": [
      "[2017-12-08 20:54:32,870] Finished writing results. You can upload them to the scoreboard via gym.upload('/home/anatoly/ML/Ml-mipt/Ml-mipt/2_semester/hw-5/records')\n",
      "  9%|▉         | 2202/25000 [02:55<30:20, 12.52it/s]"
     ]
    },
    {
     "name": "stdout",
     "output_type": "stream",
     "text": [
      "Episode finished after 402 timesteps with reward=-272.7910869963595\n",
      "iter=2200\tepsilon=0.155\n",
      "Current score(mean over 3) = -352.921\n"
     ]
    },
    {
     "name": "stderr",
     "output_type": "stream",
     "text": [
      "  9%|▉         | 2299/25000 [03:07<30:49, 12.27it/s][2017-12-08 20:54:44,720] Making new env: LunarLander-v2\n",
      "[2017-12-08 20:54:44,723] Clearing 2 monitor files from previous run (because force=True was provided)\n"
     ]
    },
    {
     "name": "stdout",
     "output_type": "stream",
     "text": [
      "Episode finished after 163 timesteps with reward=-250.49251513651126\n",
      "Episode finished after 471 timesteps with reward=-329.31109118844336\n"
     ]
    },
    {
     "name": "stderr",
     "output_type": "stream",
     "text": [
      "[2017-12-08 20:54:46,034] Finished writing results. You can upload them to the scoreboard via gym.upload('/home/anatoly/ML/Ml-mipt/Ml-mipt/2_semester/hw-5/records')\n",
      "  9%|▉         | 2301/25000 [03:08<31:03, 12.18it/s]"
     ]
    },
    {
     "name": "stdout",
     "output_type": "stream",
     "text": [
      "Episode finished after 514 timesteps with reward=-162.4196927940101\n",
      "iter=2300\tepsilon=0.145\n",
      "Current score(mean over 3) = -247.408\n"
     ]
    },
    {
     "name": "stderr",
     "output_type": "stream",
     "text": [
      " 10%|▉         | 2398/25000 [03:20<31:33, 11.94it/s][2017-12-08 20:54:58,287] Making new env: LunarLander-v2\n",
      "[2017-12-08 20:54:58,289] Clearing 2 monitor files from previous run (because force=True was provided)\n"
     ]
    },
    {
     "name": "stdout",
     "output_type": "stream",
     "text": [
      "Episode finished after 81 timesteps with reward=-334.7090875356141\n"
     ]
    },
    {
     "name": "stderr",
     "output_type": "stream",
     "text": [
      "[2017-12-08 20:54:59,680] Finished writing results. You can upload them to the scoreboard via gym.upload('/home/anatoly/ML/Ml-mipt/Ml-mipt/2_semester/hw-5/records')\n",
      " 10%|▉         | 2400/25000 [03:22<31:46, 11.86it/s]"
     ]
    },
    {
     "name": "stdout",
     "output_type": "stream",
     "text": [
      "Episode finished after 714 timesteps with reward=-375.58598744711514\n",
      "Episode finished after 243 timesteps with reward=-254.82398369862852\n",
      "iter=2400\tepsilon=0.136\n",
      "Current score(mean over 3) = -321.706\n"
     ]
    },
    {
     "name": "stderr",
     "output_type": "stream",
     "text": [
      " 10%|▉         | 2499/25000 [03:53<34:59, 10.72it/s][2017-12-08 20:55:30,714] Making new env: LunarLander-v2\n",
      "[2017-12-08 20:55:30,721] Clearing 2 monitor files from previous run (because force=True was provided)\n"
     ]
    },
    {
     "name": "stdout",
     "output_type": "stream",
     "text": [
      "Episode finished after 1000 timesteps with reward=-266.18621478011426\n",
      "Episode finished after 1000 timesteps with reward=-170.92365679319707\n"
     ]
    },
    {
     "name": "stderr",
     "output_type": "stream",
     "text": [
      "[2017-12-08 20:55:44,914] Finished writing results. You can upload them to the scoreboard via gym.upload('/home/anatoly/ML/Ml-mipt/Ml-mipt/2_semester/hw-5/records')\n",
      " 10%|█         | 2502/25000 [04:07<37:08, 10.10it/s]"
     ]
    },
    {
     "name": "stdout",
     "output_type": "stream",
     "text": [
      "Episode finished after 437 timesteps with reward=-329.8849893130799\n",
      "iter=2500\tepsilon=0.128\n",
      "Current score(mean over 3) = -255.665\n"
     ]
    },
    {
     "name": "stderr",
     "output_type": "stream",
     "text": [
      " 10%|█         | 2598/25000 [04:21<37:34,  9.94it/s][2017-12-08 20:55:58,879] Making new env: LunarLander-v2\n",
      "[2017-12-08 20:55:58,882] Clearing 2 monitor files from previous run (because force=True was provided)\n"
     ]
    },
    {
     "name": "stdout",
     "output_type": "stream",
     "text": [
      "Episode finished after 557 timesteps with reward=-196.53379209646545\n",
      "Episode finished after 171 timesteps with reward=-401.21884379613994\n"
     ]
    },
    {
     "name": "stderr",
     "output_type": "stream",
     "text": [
      "[2017-12-08 20:56:00,461] Finished writing results. You can upload them to the scoreboard via gym.upload('/home/anatoly/ML/Ml-mipt/Ml-mipt/2_semester/hw-5/records')\n",
      " 10%|█         | 2601/25000 [04:23<37:47,  9.88it/s]"
     ]
    },
    {
     "name": "stdout",
     "output_type": "stream",
     "text": [
      "Episode finished after 517 timesteps with reward=-253.67854506768577\n",
      "iter=2600\tepsilon=0.121\n",
      "Current score(mean over 3) = -283.810\n"
     ]
    },
    {
     "name": "stderr",
     "output_type": "stream",
     "text": [
      " 11%|█         | 2699/25000 [04:37<38:12,  9.73it/s][2017-12-08 20:56:14,950] Making new env: LunarLander-v2\n",
      "[2017-12-08 20:56:14,953] Clearing 2 monitor files from previous run (because force=True was provided)\n"
     ]
    },
    {
     "name": "stdout",
     "output_type": "stream",
     "text": [
      "Episode finished after 101 timesteps with reward=-339.2667889214656\n"
     ]
    },
    {
     "name": "stderr",
     "output_type": "stream",
     "text": [
      "[2017-12-08 20:56:15,615] Finished writing results. You can upload them to the scoreboard via gym.upload('/home/anatoly/ML/Ml-mipt/Ml-mipt/2_semester/hw-5/records')\n",
      " 11%|█         | 2700/25000 [04:38<38:19,  9.70it/s]"
     ]
    },
    {
     "name": "stdout",
     "output_type": "stream",
     "text": [
      "Episode finished after 313 timesteps with reward=-376.4033181642546\n",
      "Episode finished after 171 timesteps with reward=-354.870391204588\n",
      "iter=2700\tepsilon=0.114\n",
      "Current score(mean over 3) = -356.847\n"
     ]
    },
    {
     "name": "stderr",
     "output_type": "stream",
     "text": [
      " 11%|█         | 2798/25000 [04:51<38:36,  9.59it/s][2017-12-08 20:56:29,318] Making new env: LunarLander-v2\n",
      "[2017-12-08 20:56:29,321] Clearing 2 monitor files from previous run (because force=True was provided)\n"
     ]
    },
    {
     "name": "stdout",
     "output_type": "stream",
     "text": [
      "Episode finished after 316 timesteps with reward=-251.00475741593613\n",
      "Episode finished after 317 timesteps with reward=-296.0206427208959\n"
     ]
    },
    {
     "name": "stderr",
     "output_type": "stream",
     "text": [
      "[2017-12-08 20:56:30,761] Finished writing results. You can upload them to the scoreboard via gym.upload('/home/anatoly/ML/Ml-mipt/Ml-mipt/2_semester/hw-5/records')\n",
      " 11%|█         | 2802/25000 [04:53<38:46,  9.54it/s]"
     ]
    },
    {
     "name": "stdout",
     "output_type": "stream",
     "text": [
      "Episode finished after 596 timesteps with reward=-379.0234406909272\n",
      "iter=2800\tepsilon=0.108\n",
      "Current score(mean over 3) = -308.683\n"
     ]
    },
    {
     "name": "stderr",
     "output_type": "stream",
     "text": [
      " 12%|█▏        | 2899/25000 [05:05<38:48,  9.49it/s][2017-12-08 20:56:42,849] Making new env: LunarLander-v2\n",
      "[2017-12-08 20:56:42,852] Clearing 2 monitor files from previous run (because force=True was provided)\n"
     ]
    },
    {
     "name": "stdout",
     "output_type": "stream",
     "text": [
      "Episode finished after 414 timesteps with reward=-267.62022479910866\n",
      "Episode finished after 160 timesteps with reward=-340.2758015073283\n"
     ]
    },
    {
     "name": "stderr",
     "output_type": "stream",
     "text": [
      "[2017-12-08 20:56:43,792] Finished writing results. You can upload them to the scoreboard via gym.upload('/home/anatoly/ML/Ml-mipt/Ml-mipt/2_semester/hw-5/records')\n",
      " 12%|█▏        | 2901/25000 [05:06<38:56,  9.46it/s]"
     ]
    },
    {
     "name": "stdout",
     "output_type": "stream",
     "text": [
      "Episode finished after 334 timesteps with reward=-257.1342828303299\n",
      "iter=2900\tepsilon=0.102\n",
      "Current score(mean over 3) = -288.343\n"
     ]
    },
    {
     "name": "stderr",
     "output_type": "stream",
     "text": [
      " 12%|█▏        | 2999/25000 [05:19<39:01,  9.40it/s][2017-12-08 20:56:56,471] Making new env: LunarLander-v2\n",
      "[2017-12-08 20:56:56,474] Clearing 2 monitor files from previous run (because force=True was provided)\n"
     ]
    },
    {
     "name": "stdout",
     "output_type": "stream",
     "text": [
      "Episode finished after 185 timesteps with reward=-377.0316638431647\n",
      "Episode finished after 217 timesteps with reward=-243.90355403387744\n"
     ]
    },
    {
     "name": "stderr",
     "output_type": "stream",
     "text": [
      "[2017-12-08 20:56:57,055] Finished writing results. You can upload them to the scoreboard via gym.upload('/home/anatoly/ML/Ml-mipt/Ml-mipt/2_semester/hw-5/records')\n",
      " 12%|█▏        | 3002/25000 [05:19<39:04,  9.38it/s]"
     ]
    },
    {
     "name": "stdout",
     "output_type": "stream",
     "text": [
      "Episode finished after 279 timesteps with reward=-236.41414763730472\n",
      "iter=3000\tepsilon=0.097\n",
      "Current score(mean over 3) = -285.783\n"
     ]
    },
    {
     "name": "stderr",
     "output_type": "stream",
     "text": [
      " 12%|█▏        | 3099/25000 [05:30<38:57,  9.37it/s][2017-12-08 20:57:08,117] Making new env: LunarLander-v2\n",
      "[2017-12-08 20:57:08,119] Clearing 2 monitor files from previous run (because force=True was provided)\n"
     ]
    },
    {
     "name": "stdout",
     "output_type": "stream",
     "text": [
      "Episode finished after 320 timesteps with reward=-411.762937259306\n",
      "Episode finished after 183 timesteps with reward=-182.15238007136014\n"
     ]
    },
    {
     "name": "stderr",
     "output_type": "stream",
     "text": [
      "[2017-12-08 20:57:08,909] Finished writing results. You can upload them to the scoreboard via gym.upload('/home/anatoly/ML/Ml-mipt/Ml-mipt/2_semester/hw-5/records')\n",
      " 12%|█▏        | 3102/25000 [05:31<39:02,  9.35it/s]"
     ]
    },
    {
     "name": "stdout",
     "output_type": "stream",
     "text": [
      "Episode finished after 280 timesteps with reward=-192.68037670655428\n",
      "iter=3100\tepsilon=0.093\n",
      "Current score(mean over 3) = -262.199\n"
     ]
    },
    {
     "name": "stderr",
     "output_type": "stream",
     "text": [
      " 13%|█▎        | 3198/25000 [05:43<39:01,  9.31it/s][2017-12-08 20:57:20,912] Making new env: LunarLander-v2\n",
      "[2017-12-08 20:57:20,915] Clearing 2 monitor files from previous run (because force=True was provided)\n"
     ]
    },
    {
     "name": "stdout",
     "output_type": "stream",
     "text": [
      "Episode finished after 210 timesteps with reward=-395.0758325690358\n"
     ]
    },
    {
     "name": "stderr",
     "output_type": "stream",
     "text": [
      "[2017-12-08 20:57:21,488] Finished writing results. You can upload them to the scoreboard via gym.upload('/home/anatoly/ML/Ml-mipt/Ml-mipt/2_semester/hw-5/records')\n",
      " 13%|█▎        | 3200/25000 [05:44<39:05,  9.30it/s]"
     ]
    },
    {
     "name": "stdout",
     "output_type": "stream",
     "text": [
      "Episode finished after 170 timesteps with reward=-195.2337117106228\n",
      "Episode finished after 197 timesteps with reward=-92.52183249035782\n",
      "iter=3200\tepsilon=0.089\n",
      "Current score(mean over 3) = -227.610\n"
     ]
    },
    {
     "name": "stderr",
     "output_type": "stream",
     "text": [
      " 13%|█▎        | 3298/25000 [05:55<38:56,  9.29it/s][2017-12-08 20:57:32,495] Making new env: LunarLander-v2\n",
      "[2017-12-08 20:57:32,498] Clearing 2 monitor files from previous run (because force=True was provided)\n"
     ]
    },
    {
     "name": "stdout",
     "output_type": "stream",
     "text": [
      "Episode finished after 314 timesteps with reward=-389.24710659697445\n",
      "Episode finished after 199 timesteps with reward=-356.4918240377052\n"
     ]
    },
    {
     "name": "stderr",
     "output_type": "stream",
     "text": [
      "[2017-12-08 20:57:33,244] Finished writing results. You can upload them to the scoreboard via gym.upload('/home/anatoly/ML/Ml-mipt/Ml-mipt/2_semester/hw-5/records')\n",
      " 13%|█▎        | 3302/25000 [05:56<39:00,  9.27it/s]"
     ]
    },
    {
     "name": "stdout",
     "output_type": "stream",
     "text": [
      "Episode finished after 253 timesteps with reward=-402.99762883773485\n",
      "iter=3300\tepsilon=0.085\n",
      "Current score(mean over 3) = -382.912\n"
     ]
    },
    {
     "name": "stderr",
     "output_type": "stream",
     "text": [
      " 14%|█▎        | 3399/25000 [06:05<38:42,  9.30it/s][2017-12-08 20:57:42,799] Making new env: LunarLander-v2\n",
      "[2017-12-08 20:57:42,801] Clearing 2 monitor files from previous run (because force=True was provided)\n"
     ]
    },
    {
     "name": "stdout",
     "output_type": "stream",
     "text": [
      "Episode finished after 165 timesteps with reward=-423.0481853939984\n",
      "Episode finished after 208 timesteps with reward=-427.0495483059345\n"
     ]
    },
    {
     "name": "stderr",
     "output_type": "stream",
     "text": [
      "[2017-12-08 20:57:43,322] Finished writing results. You can upload them to the scoreboard via gym.upload('/home/anatoly/ML/Ml-mipt/Ml-mipt/2_semester/hw-5/records')\n",
      " 14%|█▎        | 3401/25000 [06:06<38:45,  9.29it/s]"
     ]
    },
    {
     "name": "stdout",
     "output_type": "stream",
     "text": [
      "Episode finished after 221 timesteps with reward=-314.18378635486874\n",
      "iter=3400\tepsilon=0.082\n",
      "Current score(mean over 3) = -388.094\n"
     ]
    },
    {
     "name": "stderr",
     "output_type": "stream",
     "text": [
      " 14%|█▍        | 3499/25000 [06:16<38:31,  9.30it/s][2017-12-08 20:57:53,489] Making new env: LunarLander-v2\n",
      "[2017-12-08 20:57:53,492] Clearing 2 monitor files from previous run (because force=True was provided)\n"
     ]
    },
    {
     "name": "stdout",
     "output_type": "stream",
     "text": [
      "Episode finished after 172 timesteps with reward=-499.79362244488357\n",
      "Episode finished after 209 timesteps with reward=-545.3486753755527\n"
     ]
    },
    {
     "name": "stderr",
     "output_type": "stream",
     "text": [
      "[2017-12-08 20:57:54,278] Finished writing results. You can upload them to the scoreboard via gym.upload('/home/anatoly/ML/Ml-mipt/Ml-mipt/2_semester/hw-5/records')\n",
      " 14%|█▍        | 3501/25000 [06:17<38:36,  9.28it/s]"
     ]
    },
    {
     "name": "stdout",
     "output_type": "stream",
     "text": [
      "Episode finished after 180 timesteps with reward=-267.94367061595636\n",
      "iter=3500\tepsilon=0.079\n",
      "Current score(mean over 3) = -437.695\n"
     ]
    },
    {
     "name": "stderr",
     "output_type": "stream",
     "text": [
      " 14%|█▍        | 3599/25000 [06:29<38:37,  9.23it/s][2017-12-08 20:58:07,179] Making new env: LunarLander-v2\n",
      "[2017-12-08 20:58:07,182] Clearing 2 monitor files from previous run (because force=True was provided)\n"
     ]
    },
    {
     "name": "stdout",
     "output_type": "stream",
     "text": [
      "Episode finished after 76 timesteps with reward=-602.4820852318362\n"
     ]
    },
    {
     "name": "stderr",
     "output_type": "stream",
     "text": [
      "[2017-12-08 20:58:07,701] Finished writing results. You can upload them to the scoreboard via gym.upload('/home/anatoly/ML/Ml-mipt/Ml-mipt/2_semester/hw-5/records')\n",
      " 14%|█▍        | 3600/25000 [06:30<38:40,  9.22it/s]"
     ]
    },
    {
     "name": "stdout",
     "output_type": "stream",
     "text": [
      "Episode finished after 165 timesteps with reward=-289.36162646375647\n",
      "Episode finished after 171 timesteps with reward=-310.92189856484265\n",
      "iter=3600\tepsilon=0.076\n",
      "Current score(mean over 3) = -400.922\n"
     ]
    },
    {
     "name": "stderr",
     "output_type": "stream",
     "text": [
      " 15%|█▍        | 3699/25000 [06:44<38:48,  9.15it/s][2017-12-08 20:58:21,642] Making new env: LunarLander-v2\n",
      "[2017-12-08 20:58:21,645] Clearing 2 monitor files from previous run (because force=True was provided)\n"
     ]
    },
    {
     "name": "stdout",
     "output_type": "stream",
     "text": [
      "Episode finished after 150 timesteps with reward=-321.17653155002364\n",
      "Episode finished after 98 timesteps with reward=-499.93006553457843\n"
     ]
    },
    {
     "name": "stderr",
     "output_type": "stream",
     "text": [
      "[2017-12-08 20:58:22,116] Finished writing results. You can upload them to the scoreboard via gym.upload('/home/anatoly/ML/Ml-mipt/Ml-mipt/2_semester/hw-5/records')\n",
      " 15%|█▍        | 3701/25000 [06:44<38:50,  9.14it/s]"
     ]
    },
    {
     "name": "stdout",
     "output_type": "stream",
     "text": [
      "Episode finished after 147 timesteps with reward=-366.3760277367691\n",
      "iter=3700\tepsilon=0.073\n",
      "Current score(mean over 3) = -395.828\n"
     ]
    },
    {
     "name": "stderr",
     "output_type": "stream",
     "text": [
      " 15%|█▌        | 3799/25000 [07:00<39:06,  9.03it/s][2017-12-08 20:58:37,947] Making new env: LunarLander-v2\n",
      "[2017-12-08 20:58:37,951] Clearing 2 monitor files from previous run (because force=True was provided)\n"
     ]
    },
    {
     "name": "stdout",
     "output_type": "stream",
     "text": [
      "Episode finished after 171 timesteps with reward=-198.64383185039134\n"
     ]
    },
    {
     "name": "stderr",
     "output_type": "stream",
     "text": [
      "[2017-12-08 20:58:38,663] Finished writing results. You can upload them to the scoreboard via gym.upload('/home/anatoly/ML/Ml-mipt/Ml-mipt/2_semester/hw-5/records')\n",
      " 15%|█▌        | 3800/25000 [07:01<39:11,  9.02it/s]"
     ]
    },
    {
     "name": "stdout",
     "output_type": "stream",
     "text": [
      "Episode finished after 208 timesteps with reward=-351.462109512731\n",
      "Episode finished after 152 timesteps with reward=-309.034558062846\n",
      "iter=3800\tepsilon=0.071\n",
      "Current score(mean over 3) = -286.380\n"
     ]
    },
    {
     "name": "stderr",
     "output_type": "stream",
     "text": [
      " 16%|█▌        | 3899/25000 [07:14<39:11,  8.97it/s][2017-12-08 20:58:51,990] Making new env: LunarLander-v2\n",
      "[2017-12-08 20:58:51,993] Clearing 2 monitor files from previous run (because force=True was provided)\n"
     ]
    },
    {
     "name": "stdout",
     "output_type": "stream",
     "text": [
      "Episode finished after 232 timesteps with reward=-358.00752743763553\n"
     ]
    },
    {
     "name": "stderr",
     "output_type": "stream",
     "text": [
      "[2017-12-08 20:58:52,710] Finished writing results. You can upload them to the scoreboard via gym.upload('/home/anatoly/ML/Ml-mipt/Ml-mipt/2_semester/hw-5/records')\n",
      " 16%|█▌        | 3900/25000 [07:15<39:15,  8.96it/s]"
     ]
    },
    {
     "name": "stdout",
     "output_type": "stream",
     "text": [
      "Episode finished after 179 timesteps with reward=-188.2018841566977\n",
      "Episode finished after 122 timesteps with reward=-147.33432958011764\n",
      "iter=3900\tepsilon=0.069\n",
      "Current score(mean over 3) = -231.181\n"
     ]
    },
    {
     "name": "stderr",
     "output_type": "stream",
     "text": [
      " 16%|█▌        | 3999/25000 [07:29<39:19,  8.90it/s][2017-12-08 20:59:06,697] Making new env: LunarLander-v2\n",
      "[2017-12-08 20:59:06,700] Clearing 2 monitor files from previous run (because force=True was provided)\n"
     ]
    },
    {
     "name": "stdout",
     "output_type": "stream",
     "text": [
      "Episode finished after 152 timesteps with reward=-332.8571230334804\n",
      "Episode finished after 215 timesteps with reward=-357.53413668161625\n"
     ]
    },
    {
     "name": "stderr",
     "output_type": "stream",
     "text": [
      "[2017-12-08 20:59:07,429] Finished writing results. You can upload them to the scoreboard via gym.upload('/home/anatoly/ML/Ml-mipt/Ml-mipt/2_semester/hw-5/records')\n",
      " 16%|█▌        | 4001/25000 [07:30<39:23,  8.89it/s]"
     ]
    },
    {
     "name": "stdout",
     "output_type": "stream",
     "text": [
      "Episode finished after 193 timesteps with reward=-162.41237419794132\n",
      "iter=4000\tepsilon=0.067\n",
      "Current score(mean over 3) = -284.268\n"
     ]
    },
    {
     "name": "stderr",
     "output_type": "stream",
     "text": [
      " 16%|█▋        | 4099/25000 [07:43<39:23,  8.84it/s][2017-12-08 20:59:20,907] Making new env: LunarLander-v2\n",
      "[2017-12-08 20:59:20,910] Clearing 2 monitor files from previous run (because force=True was provided)\n"
     ]
    },
    {
     "name": "stdout",
     "output_type": "stream",
     "text": [
      "Episode finished after 139 timesteps with reward=-263.1006353200183\n",
      "Episode finished after 188 timesteps with reward=-301.5000475779184\n"
     ]
    },
    {
     "name": "stderr",
     "output_type": "stream",
     "text": [
      "[2017-12-08 20:59:21,846] Finished writing results. You can upload them to the scoreboard via gym.upload('/home/anatoly/ML/Ml-mipt/Ml-mipt/2_semester/hw-5/records')\n",
      " 16%|█▋        | 4101/25000 [07:44<39:28,  8.82it/s]"
     ]
    },
    {
     "name": "stdout",
     "output_type": "stream",
     "text": [
      "Episode finished after 320 timesteps with reward=-356.7224620955086\n",
      "iter=4100\tepsilon=0.066\n",
      "Current score(mean over 3) = -307.108\n"
     ]
    },
    {
     "name": "stderr",
     "output_type": "stream",
     "text": [
      " 17%|█▋        | 4199/25000 [07:57<39:27,  8.79it/s][2017-12-08 20:59:35,278] Making new env: LunarLander-v2\n",
      "[2017-12-08 20:59:35,281] Clearing 2 monitor files from previous run (because force=True was provided)\n"
     ]
    },
    {
     "name": "stdout",
     "output_type": "stream",
     "text": [
      "Episode finished after 203 timesteps with reward=-261.8367755638379\n",
      "Episode finished after 151 timesteps with reward=-286.55891543617787\n"
     ]
    },
    {
     "name": "stderr",
     "output_type": "stream",
     "text": [
      "[2017-12-08 20:59:36,295] Finished writing results. You can upload them to the scoreboard via gym.upload('/home/anatoly/ML/Ml-mipt/Ml-mipt/2_semester/hw-5/records')\n",
      " 17%|█▋        | 4200/25000 [07:59<39:32,  8.77it/s]"
     ]
    },
    {
     "name": "stdout",
     "output_type": "stream",
     "text": [
      "Episode finished after 330 timesteps with reward=-415.2214387463471\n",
      "iter=4200\tepsilon=0.064\n",
      "Current score(mean over 3) = -321.206\n"
     ]
    },
    {
     "name": "stderr",
     "output_type": "stream",
     "text": [
      " 17%|█▋        | 4299/25000 [08:14<39:39,  8.70it/s][2017-12-08 20:59:51,533] Making new env: LunarLander-v2\n",
      "[2017-12-08 20:59:51,536] Clearing 2 monitor files from previous run (because force=True was provided)\n"
     ]
    },
    {
     "name": "stdout",
     "output_type": "stream",
     "text": [
      "Episode finished after 345 timesteps with reward=-112.60119013147003\n",
      "Episode finished after 299 timesteps with reward=-219.69794223791962\n"
     ]
    },
    {
     "name": "stderr",
     "output_type": "stream",
     "text": [
      "[2017-12-08 20:59:53,371] Finished writing results. You can upload them to the scoreboard via gym.upload('/home/anatoly/ML/Ml-mipt/Ml-mipt/2_semester/hw-5/records')\n",
      " 17%|█▋        | 4301/25000 [08:16<39:48,  8.67it/s]"
     ]
    },
    {
     "name": "stdout",
     "output_type": "stream",
     "text": [
      "Episode finished after 380 timesteps with reward=-84.3882274598644\n",
      "iter=4300\tepsilon=0.063\n",
      "Current score(mean over 3) = -138.896\n"
     ]
    },
    {
     "name": "stderr",
     "output_type": "stream",
     "text": [
      " 18%|█▊        | 4399/25000 [08:30<39:51,  8.61it/s][2017-12-08 21:00:08,066] Making new env: LunarLander-v2\n",
      "[2017-12-08 21:00:08,069] Clearing 2 monitor files from previous run (because force=True was provided)\n"
     ]
    },
    {
     "name": "stdout",
     "output_type": "stream",
     "text": [
      "Episode finished after 296 timesteps with reward=-169.46556971686806\n",
      "Episode finished after 273 timesteps with reward=-279.7911323030204\n"
     ]
    },
    {
     "name": "stderr",
     "output_type": "stream",
     "text": [
      "[2017-12-08 21:00:09,196] Finished writing results. You can upload them to the scoreboard via gym.upload('/home/anatoly/ML/Ml-mipt/Ml-mipt/2_semester/hw-5/records')\n",
      " 18%|█▊        | 4401/25000 [08:32<39:56,  8.59it/s]"
     ]
    },
    {
     "name": "stdout",
     "output_type": "stream",
     "text": [
      "Episode finished after 175 timesteps with reward=-38.80958296222738\n",
      "iter=4400\tepsilon=0.062\n",
      "Current score(mean over 3) = -162.689\n"
     ]
    },
    {
     "name": "stderr",
     "output_type": "stream",
     "text": [
      " 18%|█▊        | 4499/25000 [08:47<40:03,  8.53it/s][2017-12-08 21:00:24,939] Making new env: LunarLander-v2\n",
      "[2017-12-08 21:00:24,942] Clearing 2 monitor files from previous run (because force=True was provided)\n"
     ]
    },
    {
     "name": "stdout",
     "output_type": "stream",
     "text": [
      "Episode finished after 292 timesteps with reward=-152.67050815526778\n",
      "Episode finished after 410 timesteps with reward=-339.7980285865748\n"
     ]
    },
    {
     "name": "stderr",
     "output_type": "stream",
     "text": [
      "[2017-12-08 21:00:26,691] Finished writing results. You can upload them to the scoreboard via gym.upload('/home/anatoly/ML/Ml-mipt/Ml-mipt/2_semester/hw-5/records')\n",
      " 18%|█▊        | 4501/25000 [08:49<40:12,  8.50it/s]"
     ]
    },
    {
     "name": "stdout",
     "output_type": "stream",
     "text": [
      "Episode finished after 356 timesteps with reward=-423.25583007660964\n",
      "iter=4500\tepsilon=0.061\n",
      "Current score(mean over 3) = -305.241\n"
     ]
    },
    {
     "name": "stderr",
     "output_type": "stream",
     "text": [
      " 18%|█▊        | 4599/25000 [09:05<40:17,  8.44it/s][2017-12-08 21:00:42,447] Making new env: LunarLander-v2\n",
      "[2017-12-08 21:00:42,450] Clearing 2 monitor files from previous run (because force=True was provided)\n"
     ]
    },
    {
     "name": "stdout",
     "output_type": "stream",
     "text": [
      "Episode finished after 147 timesteps with reward=-237.5874497077171\n",
      "Episode finished after 256 timesteps with reward=-281.3160063365409\n"
     ]
    },
    {
     "name": "stderr",
     "output_type": "stream",
     "text": [
      "[2017-12-08 21:00:43,630] Finished writing results. You can upload them to the scoreboard via gym.upload('/home/anatoly/ML/Ml-mipt/Ml-mipt/2_semester/hw-5/records')\n",
      " 18%|█▊        | 4601/25000 [09:06<40:23,  8.42it/s]"
     ]
    },
    {
     "name": "stdout",
     "output_type": "stream",
     "text": [
      "Episode finished after 321 timesteps with reward=-155.41091729551286\n",
      "iter=4600\tepsilon=0.060\n",
      "Current score(mean over 3) = -224.771\n"
     ]
    },
    {
     "name": "stderr",
     "output_type": "stream",
     "text": [
      " 19%|█▉        | 4699/25000 [09:21<40:23,  8.38it/s][2017-12-08 21:00:58,482] Making new env: LunarLander-v2\n",
      "[2017-12-08 21:00:58,484] Clearing 2 monitor files from previous run (because force=True was provided)\n"
     ]
    },
    {
     "name": "stdout",
     "output_type": "stream",
     "text": [
      "Episode finished after 232 timesteps with reward=-323.345827792403\n"
     ]
    },
    {
     "name": "stderr",
     "output_type": "stream",
     "text": [
      "[2017-12-08 21:00:59,347] Finished writing results. You can upload them to the scoreboard via gym.upload('/home/anatoly/ML/Ml-mipt/Ml-mipt/2_semester/hw-5/records')\n",
      " 19%|█▉        | 4700/25000 [09:22<40:27,  8.36it/s]"
     ]
    },
    {
     "name": "stdout",
     "output_type": "stream",
     "text": [
      "Episode finished after 244 timesteps with reward=-129.06989712469345\n",
      "Episode finished after 152 timesteps with reward=-186.43054119625907\n",
      "iter=4700\tepsilon=0.059\n",
      "Current score(mean over 3) = -212.949\n"
     ]
    },
    {
     "name": "stderr",
     "output_type": "stream",
     "text": [
      " 19%|█▉        | 4799/25000 [09:36<40:28,  8.32it/s][2017-12-08 21:01:14,349] Making new env: LunarLander-v2\n",
      "[2017-12-08 21:01:14,352] Clearing 2 monitor files from previous run (because force=True was provided)\n"
     ]
    },
    {
     "name": "stdout",
     "output_type": "stream",
     "text": [
      "Episode finished after 425 timesteps with reward=-280.66408612882094\n",
      "Episode finished after 231 timesteps with reward=-189.4696059091841\n"
     ]
    },
    {
     "name": "stderr",
     "output_type": "stream",
     "text": [
      "[2017-12-08 21:01:15,950] Finished writing results. You can upload them to the scoreboard via gym.upload('/home/anatoly/ML/Ml-mipt/Ml-mipt/2_semester/hw-5/records')\n",
      " 19%|█▉        | 4801/25000 [09:38<40:35,  8.29it/s]"
     ]
    },
    {
     "name": "stdout",
     "output_type": "stream",
     "text": [
      "Episode finished after 344 timesteps with reward=-389.8220340256558\n",
      "iter=4800\tepsilon=0.058\n",
      "Current score(mean over 3) = -286.652\n"
     ]
    },
    {
     "name": "stderr",
     "output_type": "stream",
     "text": [
      " 20%|█▉        | 4899/25000 [09:52<40:32,  8.26it/s][2017-12-08 21:01:30,310] Making new env: LunarLander-v2\n",
      "[2017-12-08 21:01:30,313] Clearing 2 monitor files from previous run (because force=True was provided)\n"
     ]
    },
    {
     "name": "stdout",
     "output_type": "stream",
     "text": [
      "Episode finished after 241 timesteps with reward=-272.0764132225503\n",
      "Episode finished after 194 timesteps with reward=-299.54995786674056\n"
     ]
    },
    {
     "name": "stderr",
     "output_type": "stream",
     "text": [
      "[2017-12-08 21:01:31,467] Finished writing results. You can upload them to the scoreboard via gym.upload('/home/anatoly/ML/Ml-mipt/Ml-mipt/2_semester/hw-5/records')\n",
      " 20%|█▉        | 4901/25000 [09:54<40:37,  8.25it/s]"
     ]
    },
    {
     "name": "stdout",
     "output_type": "stream",
     "text": [
      "Episode finished after 362 timesteps with reward=-266.4767417070363\n",
      "iter=4900\tepsilon=0.057\n",
      "Current score(mean over 3) = -279.368\n"
     ]
    },
    {
     "name": "stderr",
     "output_type": "stream",
     "text": [
      " 20%|█▉        | 4999/25000 [10:10<40:43,  8.19it/s][2017-12-08 21:01:48,159] Making new env: LunarLander-v2\n",
      "[2017-12-08 21:01:48,162] Clearing 2 monitor files from previous run (because force=True was provided)\n"
     ]
    },
    {
     "name": "stdout",
     "output_type": "stream",
     "text": [
      "Episode finished after 311 timesteps with reward=-266.9446077470675\n",
      "Episode finished after 174 timesteps with reward=-84.0809524109807\n"
     ]
    },
    {
     "name": "stderr",
     "output_type": "stream",
     "text": [
      "[2017-12-08 21:01:49,326] Finished writing results. You can upload them to the scoreboard via gym.upload('/home/anatoly/ML/Ml-mipt/Ml-mipt/2_semester/hw-5/records')\n",
      " 20%|██        | 5001/25000 [10:12<40:48,  8.17it/s]"
     ]
    },
    {
     "name": "stdout",
     "output_type": "stream",
     "text": [
      "Episode finished after 304 timesteps with reward=-352.1442931759879\n",
      "iter=5000\tepsilon=0.056\n",
      "Current score(mean over 3) = -234.390\n"
     ]
    },
    {
     "name": "stderr",
     "output_type": "stream",
     "text": [
      " 20%|██        | 5099/25000 [10:26<40:43,  8.14it/s][2017-12-08 21:02:03,530] Making new env: LunarLander-v2\n",
      "[2017-12-08 21:02:03,533] Clearing 2 monitor files from previous run (because force=True was provided)\n"
     ]
    },
    {
     "name": "stdout",
     "output_type": "stream",
     "text": [
      "Episode finished after 331 timesteps with reward=-131.9750733291404\n",
      "Episode finished after 153 timesteps with reward=-133.20378132373466\n"
     ]
    },
    {
     "name": "stderr",
     "output_type": "stream",
     "text": [
      "[2017-12-08 21:02:04,781] Finished writing results. You can upload them to the scoreboard via gym.upload('/home/anatoly/ML/Ml-mipt/Ml-mipt/2_semester/hw-5/records')\n",
      " 20%|██        | 5101/25000 [10:27<40:48,  8.13it/s]"
     ]
    },
    {
     "name": "stdout",
     "output_type": "stream",
     "text": [
      "Episode finished after 309 timesteps with reward=-200.48524368817715\n",
      "iter=5100\tepsilon=0.056\n",
      "Current score(mean over 3) = -155.221\n"
     ]
    },
    {
     "name": "stderr",
     "output_type": "stream",
     "text": [
      " 21%|██        | 5199/25000 [10:42<40:45,  8.10it/s][2017-12-08 21:02:19,403] Making new env: LunarLander-v2\n",
      "[2017-12-08 21:02:19,405] Clearing 2 monitor files from previous run (because force=True was provided)\n"
     ]
    },
    {
     "name": "stdout",
     "output_type": "stream",
     "text": [
      "Episode finished after 319 timesteps with reward=-315.88138035490744\n",
      "Episode finished after 210 timesteps with reward=-234.44099326904245\n"
     ]
    },
    {
     "name": "stderr",
     "output_type": "stream",
     "text": [
      "[2017-12-08 21:02:20,480] Finished writing results. You can upload them to the scoreboard via gym.upload('/home/anatoly/ML/Ml-mipt/Ml-mipt/2_semester/hw-5/records')\n",
      " 21%|██        | 5201/25000 [10:43<40:49,  8.08it/s]"
     ]
    },
    {
     "name": "stdout",
     "output_type": "stream",
     "text": [
      "Episode finished after 239 timesteps with reward=-265.89275693808924\n",
      "iter=5200\tepsilon=0.055\n",
      "Current score(mean over 3) = -272.072\n"
     ]
    },
    {
     "name": "stderr",
     "output_type": "stream",
     "text": [
      " 21%|██        | 5299/25000 [10:56<40:41,  8.07it/s][2017-12-08 21:02:34,034] Making new env: LunarLander-v2\n",
      "[2017-12-08 21:02:34,037] Clearing 2 monitor files from previous run (because force=True was provided)\n"
     ]
    },
    {
     "name": "stdout",
     "output_type": "stream",
     "text": [
      "Episode finished after 236 timesteps with reward=-286.4086980747562\n",
      "Episode finished after 167 timesteps with reward=-236.22192203781185\n"
     ]
    },
    {
     "name": "stderr",
     "output_type": "stream",
     "text": [
      "[2017-12-08 21:02:34,853] Finished writing results. You can upload them to the scoreboard via gym.upload('/home/anatoly/ML/Ml-mipt/Ml-mipt/2_semester/hw-5/records')\n",
      " 21%|██        | 5301/25000 [10:57<40:44,  8.06it/s]"
     ]
    },
    {
     "name": "stdout",
     "output_type": "stream",
     "text": [
      "Episode finished after 200 timesteps with reward=-246.17025690759718\n",
      "iter=5300\tepsilon=0.055\n",
      "Current score(mean over 3) = -256.267\n"
     ]
    },
    {
     "name": "stderr",
     "output_type": "stream",
     "text": [
      " 22%|██▏       | 5399/25000 [11:11<40:38,  8.04it/s][2017-12-08 21:02:48,929] Making new env: LunarLander-v2\n",
      "[2017-12-08 21:02:48,932] Clearing 2 monitor files from previous run (because force=True was provided)\n"
     ]
    },
    {
     "name": "stdout",
     "output_type": "stream",
     "text": [
      "Episode finished after 141 timesteps with reward=-358.60555585180145\n",
      "Episode finished after 128 timesteps with reward=-343.3256447502115\n"
     ]
    },
    {
     "name": "stderr",
     "output_type": "stream",
     "text": [
      "[2017-12-08 21:02:49,512] Finished writing results. You can upload them to the scoreboard via gym.upload('/home/anatoly/ML/Ml-mipt/Ml-mipt/2_semester/hw-5/records')\n",
      " 22%|██▏       | 5401/25000 [11:12<40:39,  8.03it/s]"
     ]
    },
    {
     "name": "stdout",
     "output_type": "stream",
     "text": [
      "Episode finished after 207 timesteps with reward=-119.58558559966664\n",
      "iter=5400\tepsilon=0.054\n",
      "Current score(mean over 3) = -273.839\n"
     ]
    },
    {
     "name": "stderr",
     "output_type": "stream",
     "text": [
      " 22%|██▏       | 5499/25000 [11:25<40:30,  8.02it/s][2017-12-08 21:03:02,836] Making new env: LunarLander-v2\n",
      "[2017-12-08 21:03:02,839] Clearing 2 monitor files from previous run (because force=True was provided)\n"
     ]
    },
    {
     "name": "stdout",
     "output_type": "stream",
     "text": [
      "Episode finished after 144 timesteps with reward=-431.82623176370487\n",
      "Episode finished after 137 timesteps with reward=-14.948802620594122\n"
     ]
    },
    {
     "name": "stderr",
     "output_type": "stream",
     "text": [
      "[2017-12-08 21:03:03,452] Finished writing results. You can upload them to the scoreboard via gym.upload('/home/anatoly/ML/Ml-mipt/Ml-mipt/2_semester/hw-5/records')\n",
      " 22%|██▏       | 5501/25000 [11:26<40:32,  8.02it/s]"
     ]
    },
    {
     "name": "stdout",
     "output_type": "stream",
     "text": [
      "Episode finished after 198 timesteps with reward=-374.3784935585172\n",
      "iter=5500\tepsilon=0.054\n",
      "Current score(mean over 3) = -273.718\n"
     ]
    },
    {
     "name": "stderr",
     "output_type": "stream",
     "text": [
      " 22%|██▏       | 5599/25000 [11:39<40:22,  8.01it/s][2017-12-08 21:03:16,500] Making new env: LunarLander-v2\n",
      "[2017-12-08 21:03:16,503] Clearing 2 monitor files from previous run (because force=True was provided)\n"
     ]
    },
    {
     "name": "stdout",
     "output_type": "stream",
     "text": [
      "Episode finished after 154 timesteps with reward=-251.1718335638691\n"
     ]
    },
    {
     "name": "stderr",
     "output_type": "stream",
     "text": [
      "[2017-12-08 21:03:17,019] Finished writing results. You can upload them to the scoreboard via gym.upload('/home/anatoly/ML/Ml-mipt/Ml-mipt/2_semester/hw-5/records')\n",
      " 22%|██▏       | 5600/25000 [11:39<40:24,  8.00it/s]"
     ]
    },
    {
     "name": "stdout",
     "output_type": "stream",
     "text": [
      "Episode finished after 169 timesteps with reward=-383.87252954053645\n",
      "Episode finished after 100 timesteps with reward=-179.98718167343253\n",
      "iter=5600\tepsilon=0.054\n",
      "Current score(mean over 3) = -271.677\n"
     ]
    },
    {
     "name": "stderr",
     "output_type": "stream",
     "text": [
      " 23%|██▎       | 5699/25000 [11:52<40:13,  8.00it/s][2017-12-08 21:03:29,877] Making new env: LunarLander-v2\n",
      "[2017-12-08 21:03:29,879] Clearing 2 monitor files from previous run (because force=True was provided)\n"
     ]
    },
    {
     "name": "stdout",
     "output_type": "stream",
     "text": [
      "Episode finished after 107 timesteps with reward=-248.87995007227536\n",
      "Episode finished after 149 timesteps with reward=-294.4373932707381\n"
     ]
    },
    {
     "name": "stderr",
     "output_type": "stream",
     "text": [
      "[2017-12-08 21:03:30,336] Finished writing results. You can upload them to the scoreboard via gym.upload('/home/anatoly/ML/Ml-mipt/Ml-mipt/2_semester/hw-5/records')\n",
      " 23%|██▎       | 5701/25000 [11:53<40:14,  7.99it/s]"
     ]
    },
    {
     "name": "stdout",
     "output_type": "stream",
     "text": [
      "Episode finished after 130 timesteps with reward=-237.7955849131498\n",
      "iter=5700\tepsilon=0.053\n",
      "Current score(mean over 3) = -260.371\n"
     ]
    },
    {
     "name": "stderr",
     "output_type": "stream",
     "text": [
      " 23%|██▎       | 5799/25000 [12:05<40:01,  7.99it/s][2017-12-08 21:03:42,760] Making new env: LunarLander-v2\n",
      "[2017-12-08 21:03:42,762] Clearing 2 monitor files from previous run (because force=True was provided)\n"
     ]
    },
    {
     "name": "stdout",
     "output_type": "stream",
     "text": [
      "Episode finished after 93 timesteps with reward=-353.5272755963608\n",
      "Episode finished after 117 timesteps with reward=-580.9367949069986\n"
     ]
    },
    {
     "name": "stderr",
     "output_type": "stream",
     "text": [
      "[2017-12-08 21:03:43,094] Finished writing results. You can upload them to the scoreboard via gym.upload('/home/anatoly/ML/Ml-mipt/Ml-mipt/2_semester/hw-5/records')\n",
      " 23%|██▎       | 5801/25000 [12:05<40:02,  7.99it/s]"
     ]
    },
    {
     "name": "stdout",
     "output_type": "stream",
     "text": [
      "Episode finished after 90 timesteps with reward=-564.4480094268711\n",
      "iter=5800\tepsilon=0.053\n",
      "Current score(mean over 3) = -499.637\n"
     ]
    },
    {
     "name": "stderr",
     "output_type": "stream",
     "text": [
      " 24%|██▎       | 5899/25000 [12:18<39:50,  7.99it/s][2017-12-08 21:03:55,479] Making new env: LunarLander-v2\n",
      "[2017-12-08 21:03:55,481] Clearing 2 monitor files from previous run (because force=True was provided)\n",
      "[2017-12-08 21:03:55,852] Finished writing results. You can upload them to the scoreboard via gym.upload('/home/anatoly/ML/Ml-mipt/Ml-mipt/2_semester/hw-5/records')\n",
      " 24%|██▎       | 5900/25000 [12:18<39:51,  7.99it/s]"
     ]
    },
    {
     "name": "stdout",
     "output_type": "stream",
     "text": [
      "Episode finished after 139 timesteps with reward=-557.2523033904886\n",
      "Episode finished after 89 timesteps with reward=-769.4487204792105\n",
      "Episode finished after 108 timesteps with reward=-163.92362664237868\n",
      "iter=5900\tepsilon=0.053\n",
      "Current score(mean over 3) = -496.875\n"
     ]
    },
    {
     "name": "stderr",
     "output_type": "stream",
     "text": [
      " 24%|██▍       | 5999/25000 [12:30<39:38,  7.99it/s][2017-12-08 21:04:08,245] Making new env: LunarLander-v2\n",
      "[2017-12-08 21:04:08,248] Clearing 2 monitor files from previous run (because force=True was provided)\n"
     ]
    },
    {
     "name": "stdout",
     "output_type": "stream",
     "text": [
      "Episode finished after 90 timesteps with reward=-510.8911465493384\n",
      "Episode finished after 133 timesteps with reward=-368.7890260737745\n"
     ]
    },
    {
     "name": "stderr",
     "output_type": "stream",
     "text": [
      "[2017-12-08 21:04:08,588] Finished writing results. You can upload them to the scoreboard via gym.upload('/home/anatoly/ML/Ml-mipt/Ml-mipt/2_semester/hw-5/records')\n",
      " 24%|██▍       | 6001/25000 [12:31<39:39,  7.99it/s]"
     ]
    },
    {
     "name": "stdout",
     "output_type": "stream",
     "text": [
      "Episode finished after 101 timesteps with reward=-607.9078672121502\n",
      "iter=6000\tepsilon=0.052\n",
      "Current score(mean over 3) = -495.863\n"
     ]
    },
    {
     "name": "stderr",
     "output_type": "stream",
     "text": [
      " 24%|██▍       | 6099/25000 [12:43<39:26,  7.99it/s][2017-12-08 21:04:20,935] Making new env: LunarLander-v2\n",
      "[2017-12-08 21:04:20,938] Clearing 2 monitor files from previous run (because force=True was provided)\n"
     ]
    },
    {
     "name": "stdout",
     "output_type": "stream",
     "text": [
      "Episode finished after 81 timesteps with reward=-630.7537845707543\n",
      "Episode finished after 99 timesteps with reward=-161.99815456614462\n"
     ]
    },
    {
     "name": "stderr",
     "output_type": "stream",
     "text": [
      "[2017-12-08 21:04:21,420] Finished writing results. You can upload them to the scoreboard via gym.upload('/home/anatoly/ML/Ml-mipt/Ml-mipt/2_semester/hw-5/records')\n",
      " 24%|██▍       | 6101/25000 [12:44<39:27,  7.98it/s]"
     ]
    },
    {
     "name": "stdout",
     "output_type": "stream",
     "text": [
      "Episode finished after 224 timesteps with reward=-68.51854594523375\n",
      "iter=6100\tepsilon=0.052\n",
      "Current score(mean over 3) = -287.090\n"
     ]
    },
    {
     "name": "stderr",
     "output_type": "stream",
     "text": [
      " 25%|██▍       | 6199/25000 [12:56<39:14,  7.98it/s][2017-12-08 21:04:33,831] Making new env: LunarLander-v2\n",
      "[2017-12-08 21:04:33,834] Clearing 2 monitor files from previous run (because force=True was provided)\n",
      "[2017-12-08 21:04:34,130] Finished writing results. You can upload them to the scoreboard via gym.upload('/home/anatoly/ML/Ml-mipt/Ml-mipt/2_semester/hw-5/records')\n",
      " 25%|██▍       | 6200/25000 [12:56<39:15,  7.98it/s]"
     ]
    },
    {
     "name": "stdout",
     "output_type": "stream",
     "text": [
      "Episode finished after 114 timesteps with reward=-202.4215291968991\n",
      "Episode finished after 88 timesteps with reward=-518.0476131191419\n",
      "Episode finished after 95 timesteps with reward=-97.88708285391954\n",
      "iter=6200\tepsilon=0.052\n",
      "Current score(mean over 3) = -272.785\n"
     ]
    },
    {
     "name": "stderr",
     "output_type": "stream",
     "text": [
      " 25%|██▌       | 6299/25000 [13:09<39:03,  7.98it/s][2017-12-08 21:04:46,731] Making new env: LunarLander-v2\n",
      "[2017-12-08 21:04:46,734] Clearing 2 monitor files from previous run (because force=True was provided)\n"
     ]
    },
    {
     "name": "stdout",
     "output_type": "stream",
     "text": [
      "Episode finished after 177 timesteps with reward=-255.0092334222695\n",
      "Episode finished after 138 timesteps with reward=-244.4461394019114\n"
     ]
    },
    {
     "name": "stderr",
     "output_type": "stream",
     "text": [
      "[2017-12-08 21:04:47,358] Finished writing results. You can upload them to the scoreboard via gym.upload('/home/anatoly/ML/Ml-mipt/Ml-mipt/2_semester/hw-5/records')\n",
      " 25%|██▌       | 6301/25000 [13:10<39:05,  7.97it/s]"
     ]
    },
    {
     "name": "stdout",
     "output_type": "stream",
     "text": [
      "Episode finished after 183 timesteps with reward=-327.18299804406536\n",
      "iter=6300\tepsilon=0.052\n",
      "Current score(mean over 3) = -275.546\n"
     ]
    },
    {
     "name": "stderr",
     "output_type": "stream",
     "text": [
      " 26%|██▌       | 6399/25000 [13:23<38:54,  7.97it/s][2017-12-08 21:05:00,416] Making new env: LunarLander-v2\n",
      "[2017-12-08 21:05:00,419] Clearing 2 monitor files from previous run (because force=True was provided)\n"
     ]
    },
    {
     "name": "stdout",
     "output_type": "stream",
     "text": [
      "Episode finished after 236 timesteps with reward=-17.309790669359387\n",
      "Episode finished after 269 timesteps with reward=-423.097627153078\n"
     ]
    },
    {
     "name": "stderr",
     "output_type": "stream",
     "text": [
      "[2017-12-08 21:05:01,622] Finished writing results. You can upload them to the scoreboard via gym.upload('/home/anatoly/ML/Ml-mipt/Ml-mipt/2_semester/hw-5/records')\n",
      " 26%|██▌       | 6401/25000 [13:24<38:57,  7.96it/s]"
     ]
    },
    {
     "name": "stdout",
     "output_type": "stream",
     "text": [
      "Episode finished after 292 timesteps with reward=-308.2425780993341\n",
      "iter=6400\tepsilon=0.052\n",
      "Current score(mean over 3) = -249.550\n"
     ]
    },
    {
     "name": "stderr",
     "output_type": "stream",
     "text": [
      " 26%|██▌       | 6499/25000 [13:37<38:47,  7.95it/s][2017-12-08 21:05:14,940] Making new env: LunarLander-v2\n",
      "[2017-12-08 21:05:14,943] Clearing 2 monitor files from previous run (because force=True was provided)\n"
     ]
    },
    {
     "name": "stdout",
     "output_type": "stream",
     "text": [
      "Episode finished after 132 timesteps with reward=-205.59650540362242\n",
      "Episode finished after 255 timesteps with reward=-242.26302791474993\n"
     ]
    },
    {
     "name": "stderr",
     "output_type": "stream",
     "text": [
      "[2017-12-08 21:05:16,422] Finished writing results. You can upload them to the scoreboard via gym.upload('/home/anatoly/ML/Ml-mipt/Ml-mipt/2_semester/hw-5/records')\n",
      " 26%|██▌       | 6501/25000 [13:39<38:51,  7.93it/s]"
     ]
    },
    {
     "name": "stdout",
     "output_type": "stream",
     "text": [
      "Episode finished after 511 timesteps with reward=-74.99518500099263\n",
      "iter=6500\tepsilon=0.051\n",
      "Current score(mean over 3) = -174.285\n"
     ]
    },
    {
     "name": "stderr",
     "output_type": "stream",
     "text": [
      " 26%|██▋       | 6599/25000 [13:55<38:48,  7.90it/s][2017-12-08 21:05:32,545] Making new env: LunarLander-v2\n",
      "[2017-12-08 21:05:32,548] Clearing 2 monitor files from previous run (because force=True was provided)\n"
     ]
    },
    {
     "name": "stdout",
     "output_type": "stream",
     "text": [
      "Episode finished after 418 timesteps with reward=-154.47658202164888\n",
      "Episode finished after 238 timesteps with reward=-125.18702669082867\n"
     ]
    },
    {
     "name": "stderr",
     "output_type": "stream",
     "text": [
      "[2017-12-08 21:05:34,544] Finished writing results. You can upload them to the scoreboard via gym.upload('/home/anatoly/ML/Ml-mipt/Ml-mipt/2_semester/hw-5/records')\n",
      " 26%|██▋       | 6601/25000 [13:57<38:54,  7.88it/s]"
     ]
    },
    {
     "name": "stdout",
     "output_type": "stream",
     "text": [
      "Episode finished after 309 timesteps with reward=-130.90616730057837\n",
      "iter=6600\tepsilon=0.051\n",
      "Current score(mean over 3) = -136.857\n"
     ]
    },
    {
     "name": "stderr",
     "output_type": "stream",
     "text": [
      " 27%|██▋       | 6699/25000 [14:17<39:02,  7.81it/s][2017-12-08 21:05:54,933] Making new env: LunarLander-v2\n",
      "[2017-12-08 21:05:54,936] Clearing 2 monitor files from previous run (because force=True was provided)\n"
     ]
    },
    {
     "name": "stdout",
     "output_type": "stream",
     "text": [
      "Episode finished after 1000 timesteps with reward=-112.61255854638037\n"
     ]
    },
    {
     "name": "stderr",
     "output_type": "stream",
     "text": [
      "[2017-12-08 21:05:59,487] Finished writing results. You can upload them to the scoreboard via gym.upload('/home/anatoly/ML/Ml-mipt/Ml-mipt/2_semester/hw-5/records')\n",
      " 27%|██▋       | 6700/25000 [14:22<39:15,  7.77it/s]"
     ]
    },
    {
     "name": "stdout",
     "output_type": "stream",
     "text": [
      "Episode finished after 221 timesteps with reward=-93.29274025257838\n",
      "Episode finished after 149 timesteps with reward=-191.52835564648782\n",
      "iter=6700\tepsilon=0.051\n",
      "Current score(mean over 3) = -132.478\n"
     ]
    },
    {
     "name": "stderr",
     "output_type": "stream",
     "text": [
      " 27%|██▋       | 6799/25000 [14:39<39:14,  7.73it/s][2017-12-08 21:06:17,041] Making new env: LunarLander-v2\n",
      "[2017-12-08 21:06:17,045] Clearing 2 monitor files from previous run (because force=True was provided)\n"
     ]
    },
    {
     "name": "stdout",
     "output_type": "stream",
     "text": [
      "Episode finished after 338 timesteps with reward=-186.88665996492898\n",
      "Episode finished after 188 timesteps with reward=-18.082677898639133\n"
     ]
    },
    {
     "name": "stderr",
     "output_type": "stream",
     "text": [
      "[2017-12-08 21:06:18,077] Finished writing results. You can upload them to the scoreboard via gym.upload('/home/anatoly/ML/Ml-mipt/Ml-mipt/2_semester/hw-5/records')\n",
      " 27%|██▋       | 6801/25000 [14:40<39:17,  7.72it/s]"
     ]
    },
    {
     "name": "stdout",
     "output_type": "stream",
     "text": [
      "Episode finished after 199 timesteps with reward=-93.82753859576063\n",
      "iter=6800\tepsilon=0.051\n",
      "Current score(mean over 3) = -99.599\n"
     ]
    },
    {
     "name": "stderr",
     "output_type": "stream",
     "text": [
      " 28%|██▊       | 6899/25000 [14:55<39:10,  7.70it/s][2017-12-08 21:06:33,377] Making new env: LunarLander-v2\n",
      "[2017-12-08 21:06:33,380] Clearing 2 monitor files from previous run (because force=True was provided)\n"
     ]
    },
    {
     "name": "stdout",
     "output_type": "stream",
     "text": [
      "Episode finished after 292 timesteps with reward=-112.08251737390736\n",
      "Episode finished after 113 timesteps with reward=-50.21418546888031\n"
     ]
    },
    {
     "name": "stderr",
     "output_type": "stream",
     "text": [
      "[2017-12-08 21:06:35,780] Finished writing results. You can upload them to the scoreboard via gym.upload('/home/anatoly/ML/Ml-mipt/Ml-mipt/2_semester/hw-5/records')\n",
      " 28%|██▊       | 6900/25000 [14:58<39:17,  7.68it/s]"
     ]
    },
    {
     "name": "stdout",
     "output_type": "stream",
     "text": [
      "Episode finished after 698 timesteps with reward=-137.15447382755227\n",
      "iter=6900\tepsilon=0.051\n",
      "Current score(mean over 3) = -99.817\n"
     ]
    },
    {
     "name": "stderr",
     "output_type": "stream",
     "text": [
      " 28%|██▊       | 6999/25000 [15:15<39:15,  7.64it/s][2017-12-08 21:06:53,143] Making new env: LunarLander-v2\n",
      "[2017-12-08 21:06:53,146] Clearing 2 monitor files from previous run (because force=True was provided)\n"
     ]
    },
    {
     "name": "stdout",
     "output_type": "stream",
     "text": [
      "Episode finished after 112 timesteps with reward=-207.9059842101497\n",
      "Episode finished after 419 timesteps with reward=-30.981951850357476\n"
     ]
    },
    {
     "name": "stderr",
     "output_type": "stream",
     "text": [
      "[2017-12-08 21:06:54,310] Finished writing results. You can upload them to the scoreboard via gym.upload('/home/anatoly/ML/Ml-mipt/Ml-mipt/2_semester/hw-5/records')\n",
      " 28%|██▊       | 7000/25000 [15:17<39:18,  7.63it/s]"
     ]
    },
    {
     "name": "stdout",
     "output_type": "stream",
     "text": [
      "Episode finished after 257 timesteps with reward=-263.87530673842053\n",
      "iter=7000\tepsilon=0.051\n",
      "Current score(mean over 3) = -167.588\n"
     ]
    },
    {
     "name": "stderr",
     "output_type": "stream",
     "text": [
      " 28%|██▊       | 7099/25000 [15:37<39:24,  7.57it/s][2017-12-08 21:07:15,369] Making new env: LunarLander-v2\n",
      "[2017-12-08 21:07:15,373] Clearing 2 monitor files from previous run (because force=True was provided)\n"
     ]
    },
    {
     "name": "stdout",
     "output_type": "stream",
     "text": [
      "Episode finished after 427 timesteps with reward=-152.52273476603204\n",
      "Episode finished after 431 timesteps with reward=-194.1651124186859\n"
     ]
    },
    {
     "name": "stderr",
     "output_type": "stream",
     "text": [
      "[2017-12-08 21:07:17,305] Finished writing results. You can upload them to the scoreboard via gym.upload('/home/anatoly/ML/Ml-mipt/Ml-mipt/2_semester/hw-5/records')\n",
      " 28%|██▊       | 7101/25000 [15:40<39:29,  7.55it/s]"
     ]
    },
    {
     "name": "stdout",
     "output_type": "stream",
     "text": [
      "Episode finished after 225 timesteps with reward=-86.61607254993419\n",
      "iter=7100\tepsilon=0.051\n",
      "Current score(mean over 3) = -144.435\n"
     ]
    },
    {
     "name": "stderr",
     "output_type": "stream",
     "text": [
      " 29%|██▉       | 7199/25000 [16:00<39:34,  7.50it/s][2017-12-08 21:07:37,769] Making new env: LunarLander-v2\n",
      "[2017-12-08 21:07:37,772] Clearing 2 monitor files from previous run (because force=True was provided)\n"
     ]
    },
    {
     "name": "stdout",
     "output_type": "stream",
     "text": [
      "Episode finished after 523 timesteps with reward=-178.44451758849783\n",
      "Episode finished after 601 timesteps with reward=-265.24794946473764\n"
     ]
    },
    {
     "name": "stderr",
     "output_type": "stream",
     "text": [
      "[2017-12-08 21:07:42,791] Finished writing results. You can upload them to the scoreboard via gym.upload('/home/anatoly/ML/Ml-mipt/Ml-mipt/2_semester/hw-5/records')\n",
      " 29%|██▉       | 7200/25000 [16:05<39:47,  7.46it/s]"
     ]
    },
    {
     "name": "stdout",
     "output_type": "stream",
     "text": [
      "Episode finished after 794 timesteps with reward=-305.3488621105125\n",
      "iter=7200\tepsilon=0.051\n",
      "Current score(mean over 3) = -249.680\n"
     ]
    },
    {
     "name": "stderr",
     "output_type": "stream",
     "text": [
      " 29%|██▉       | 7299/25000 [16:24<39:47,  7.41it/s][2017-12-08 21:08:01,882] Making new env: LunarLander-v2\n",
      "[2017-12-08 21:08:01,885] Clearing 2 monitor files from previous run (because force=True was provided)\n"
     ]
    },
    {
     "name": "stdout",
     "output_type": "stream",
     "text": [
      "Episode finished after 250 timesteps with reward=-29.815744058889734\n",
      "Episode finished after 974 timesteps with reward=-353.55723213195785\n"
     ]
    },
    {
     "name": "stderr",
     "output_type": "stream",
     "text": [
      "[2017-12-08 21:08:06,979] Finished writing results. You can upload them to the scoreboard via gym.upload('/home/anatoly/ML/Ml-mipt/Ml-mipt/2_semester/hw-5/records')\n",
      " 29%|██▉       | 7301/25000 [16:29<39:59,  7.38it/s]"
     ]
    },
    {
     "name": "stdout",
     "output_type": "stream",
     "text": [
      "Episode finished after 757 timesteps with reward=-298.4078409236894\n",
      "iter=7300\tepsilon=0.051\n",
      "Current score(mean over 3) = -227.260\n"
     ]
    },
    {
     "name": "stderr",
     "output_type": "stream",
     "text": [
      " 30%|██▉       | 7399/25000 [16:47<39:56,  7.34it/s][2017-12-08 21:08:24,815] Making new env: LunarLander-v2\n",
      "[2017-12-08 21:08:24,818] Clearing 2 monitor files from previous run (because force=True was provided)\n"
     ]
    },
    {
     "name": "stdout",
     "output_type": "stream",
     "text": [
      "Episode finished after 273 timesteps with reward=-161.76165740077244\n",
      "Episode finished after 898 timesteps with reward=-352.37622386427324\n"
     ]
    },
    {
     "name": "stderr",
     "output_type": "stream",
     "text": [
      "[2017-12-08 21:08:28,763] Finished writing results. You can upload them to the scoreboard via gym.upload('/home/anatoly/ML/Ml-mipt/Ml-mipt/2_semester/hw-5/records')\n",
      " 30%|██▉       | 7401/25000 [16:51<40:05,  7.32it/s]"
     ]
    },
    {
     "name": "stdout",
     "output_type": "stream",
     "text": [
      "Episode finished after 290 timesteps with reward=-119.71321847900009\n",
      "iter=7400\tepsilon=0.051\n",
      "Current score(mean over 3) = -211.284\n"
     ]
    },
    {
     "name": "stderr",
     "output_type": "stream",
     "text": [
      " 30%|██▉       | 7499/25000 [17:11<40:06,  7.27it/s][2017-12-08 21:08:48,804] Making new env: LunarLander-v2\n",
      "[2017-12-08 21:08:48,807] Clearing 2 monitor files from previous run (because force=True was provided)\n"
     ]
    },
    {
     "name": "stdout",
     "output_type": "stream",
     "text": [
      "Episode finished after 904 timesteps with reward=-291.38158563169526\n",
      "Episode finished after 523 timesteps with reward=-212.69192916348734\n"
     ]
    },
    {
     "name": "stderr",
     "output_type": "stream",
     "text": [
      "[2017-12-08 21:08:54,800] Finished writing results. You can upload them to the scoreboard via gym.upload('/home/anatoly/ML/Ml-mipt/Ml-mipt/2_semester/hw-5/records')\n",
      " 30%|███       | 7501/25000 [17:17<40:20,  7.23it/s]"
     ]
    },
    {
     "name": "stdout",
     "output_type": "stream",
     "text": [
      "Episode finished after 557 timesteps with reward=-357.2965014831972\n",
      "iter=7500\tepsilon=0.051\n",
      "Current score(mean over 3) = -287.123\n"
     ]
    },
    {
     "name": "stderr",
     "output_type": "stream",
     "text": [
      " 30%|███       | 7599/25000 [17:37<40:21,  7.19it/s][2017-12-08 21:09:14,792] Making new env: LunarLander-v2\n",
      "[2017-12-08 21:09:14,795] Clearing 2 monitor files from previous run (because force=True was provided)\n"
     ]
    },
    {
     "name": "stdout",
     "output_type": "stream",
     "text": [
      "Episode finished after 362 timesteps with reward=-212.71858412357412\n",
      "Episode finished after 706 timesteps with reward=-298.7881061518278\n"
     ]
    },
    {
     "name": "stderr",
     "output_type": "stream",
     "text": [
      "[2017-12-08 21:09:21,429] Finished writing results. You can upload them to the scoreboard via gym.upload('/home/anatoly/ML/Ml-mipt/Ml-mipt/2_semester/hw-5/records')\n",
      " 30%|███       | 7600/25000 [17:44<40:36,  7.14it/s]"
     ]
    },
    {
     "name": "stdout",
     "output_type": "stream",
     "text": [
      "Episode finished after 1000 timesteps with reward=-249.95778531075135\n",
      "iter=7600\tepsilon=0.050\n",
      "Current score(mean over 3) = -253.821\n"
     ]
    },
    {
     "name": "stderr",
     "output_type": "stream",
     "text": [
      " 31%|███       | 7699/25000 [18:02<40:32,  7.11it/s][2017-12-08 21:09:39,983] Making new env: LunarLander-v2\n",
      "[2017-12-08 21:09:39,986] Clearing 2 monitor files from previous run (because force=True was provided)\n"
     ]
    },
    {
     "name": "stdout",
     "output_type": "stream",
     "text": [
      "Episode finished after 312 timesteps with reward=-158.7347368024813\n",
      "Episode finished after 592 timesteps with reward=-241.0959367538463\n"
     ]
    },
    {
     "name": "stderr",
     "output_type": "stream",
     "text": [
      "[2017-12-08 21:09:42,561] Finished writing results. You can upload them to the scoreboard via gym.upload('/home/anatoly/ML/Ml-mipt/Ml-mipt/2_semester/hw-5/records')\n",
      " 31%|███       | 7701/25000 [18:05<40:38,  7.09it/s]"
     ]
    },
    {
     "name": "stdout",
     "output_type": "stream",
     "text": [
      "Episode finished after 422 timesteps with reward=-192.52010731313214\n",
      "iter=7700\tepsilon=0.050\n",
      "Current score(mean over 3) = -197.450\n"
     ]
    },
    {
     "name": "stderr",
     "output_type": "stream",
     "text": [
      " 31%|███       | 7799/25000 [18:23<40:32,  7.07it/s][2017-12-08 21:10:00,509] Making new env: LunarLander-v2\n",
      "[2017-12-08 21:10:00,512] Clearing 2 monitor files from previous run (because force=True was provided)\n"
     ]
    },
    {
     "name": "stdout",
     "output_type": "stream",
     "text": [
      "Episode finished after 168 timesteps with reward=-149.67760903054068\n",
      "Episode finished after 654 timesteps with reward=-313.34925730810835\n"
     ]
    },
    {
     "name": "stderr",
     "output_type": "stream",
     "text": [
      "[2017-12-08 21:10:02,999] Finished writing results. You can upload them to the scoreboard via gym.upload('/home/anatoly/ML/Ml-mipt/Ml-mipt/2_semester/hw-5/records')\n",
      " 31%|███       | 7801/25000 [18:25<40:38,  7.05it/s]"
     ]
    },
    {
     "name": "stdout",
     "output_type": "stream",
     "text": [
      "Episode finished after 448 timesteps with reward=-262.8459682707322\n",
      "iter=7800\tepsilon=0.050\n",
      "Current score(mean over 3) = -241.958\n"
     ]
    },
    {
     "name": "stderr",
     "output_type": "stream",
     "text": [
      " 32%|███▏      | 7899/25000 [18:42<40:30,  7.04it/s][2017-12-08 21:10:20,048] Making new env: LunarLander-v2\n",
      "[2017-12-08 21:10:20,052] Clearing 2 monitor files from previous run (because force=True was provided)\n"
     ]
    },
    {
     "name": "stdout",
     "output_type": "stream",
     "text": [
      "Episode finished after 514 timesteps with reward=-193.38635140889215\n",
      "Episode finished after 773 timesteps with reward=-288.5072736354906\n"
     ]
    },
    {
     "name": "stderr",
     "output_type": "stream",
     "text": [
      "[2017-12-08 21:10:24,655] Finished writing results. You can upload them to the scoreboard via gym.upload('/home/anatoly/ML/Ml-mipt/Ml-mipt/2_semester/hw-5/records')\n",
      " 32%|███▏      | 7901/25000 [18:47<40:40,  7.01it/s]"
     ]
    },
    {
     "name": "stdout",
     "output_type": "stream",
     "text": [
      "Episode finished after 581 timesteps with reward=-238.65543760072512\n",
      "iter=7900\tepsilon=0.050\n",
      "Current score(mean over 3) = -240.183\n"
     ]
    },
    {
     "name": "stderr",
     "output_type": "stream",
     "text": [
      " 32%|███▏      | 7999/25000 [19:06<40:36,  6.98it/s][2017-12-08 21:10:43,938] Making new env: LunarLander-v2\n",
      "[2017-12-08 21:10:43,941] Clearing 2 monitor files from previous run (because force=True was provided)\n"
     ]
    },
    {
     "name": "stdout",
     "output_type": "stream",
     "text": [
      "Episode finished after 435 timesteps with reward=-215.1673466003904\n",
      "Episode finished after 279 timesteps with reward=-171.94913532594853\n"
     ]
    },
    {
     "name": "stderr",
     "output_type": "stream",
     "text": [
      "[2017-12-08 21:10:47,172] Finished writing results. You can upload them to the scoreboard via gym.upload('/home/anatoly/ML/Ml-mipt/Ml-mipt/2_semester/hw-5/records')\n",
      " 32%|███▏      | 8000/25000 [19:09<40:43,  6.96it/s]"
     ]
    },
    {
     "name": "stdout",
     "output_type": "stream",
     "text": [
      "Episode finished after 575 timesteps with reward=-194.27106436855019\n",
      "iter=8000\tepsilon=0.050\n",
      "Current score(mean over 3) = -193.796\n"
     ]
    },
    {
     "name": "stderr",
     "output_type": "stream",
     "text": [
      " 32%|███▏      | 8099/25000 [19:31<40:44,  6.92it/s][2017-12-08 21:11:08,632] Making new env: LunarLander-v2\n",
      "[2017-12-08 21:11:08,636] Clearing 2 monitor files from previous run (because force=True was provided)\n"
     ]
    },
    {
     "name": "stdout",
     "output_type": "stream",
     "text": [
      "Episode finished after 288 timesteps with reward=-137.080925633141\n",
      "Episode finished after 217 timesteps with reward=-150.00820552361148\n"
     ]
    },
    {
     "name": "stderr",
     "output_type": "stream",
     "text": [
      "[2017-12-08 21:11:11,126] Finished writing results. You can upload them to the scoreboard via gym.upload('/home/anatoly/ML/Ml-mipt/Ml-mipt/2_semester/hw-5/records')\n",
      " 32%|███▏      | 8101/25000 [19:34<40:49,  6.90it/s]"
     ]
    },
    {
     "name": "stdout",
     "output_type": "stream",
     "text": [
      "Episode finished after 652 timesteps with reward=-220.67726436251695\n",
      "iter=8100\tepsilon=0.050\n",
      "Current score(mean over 3) = -169.255\n"
     ]
    },
    {
     "name": "stderr",
     "output_type": "stream",
     "text": [
      " 33%|███▎      | 8199/25000 [19:53<40:46,  6.87it/s][2017-12-08 21:11:31,283] Making new env: LunarLander-v2\n",
      "[2017-12-08 21:11:31,286] Clearing 2 monitor files from previous run (because force=True was provided)\n"
     ]
    },
    {
     "name": "stdout",
     "output_type": "stream",
     "text": [
      "Episode finished after 493 timesteps with reward=-193.39422316451567\n",
      "Episode finished after 350 timesteps with reward=-153.58184465988148\n"
     ]
    },
    {
     "name": "stderr",
     "output_type": "stream",
     "text": [
      "[2017-12-08 21:11:34,962] Finished writing results. You can upload them to the scoreboard via gym.upload('/home/anatoly/ML/Ml-mipt/Ml-mipt/2_semester/hw-5/records')\n",
      " 33%|███▎      | 8201/25000 [19:57<40:53,  6.85it/s]"
     ]
    },
    {
     "name": "stdout",
     "output_type": "stream",
     "text": [
      "Episode finished after 816 timesteps with reward=-223.2258726292734\n",
      "iter=8200\tepsilon=0.050\n",
      "Current score(mean over 3) = -190.067\n"
     ]
    },
    {
     "name": "stderr",
     "output_type": "stream",
     "text": [
      " 33%|███▎      | 8299/25000 [20:17<40:49,  6.82it/s][2017-12-08 21:11:54,740] Making new env: LunarLander-v2\n",
      "[2017-12-08 21:11:54,743] Clearing 2 monitor files from previous run (because force=True was provided)\n"
     ]
    },
    {
     "name": "stdout",
     "output_type": "stream",
     "text": [
      "Episode finished after 786 timesteps with reward=-248.52621164539988\n"
     ]
    },
    {
     "name": "stderr",
     "output_type": "stream",
     "text": [
      "[2017-12-08 21:11:57,706] Finished writing results. You can upload them to the scoreboard via gym.upload('/home/anatoly/ML/Ml-mipt/Ml-mipt/2_semester/hw-5/records')\n",
      " 33%|███▎      | 8300/25000 [20:20<40:55,  6.80it/s]"
     ]
    },
    {
     "name": "stdout",
     "output_type": "stream",
     "text": [
      "Episode finished after 384 timesteps with reward=-173.21545815870962\n",
      "Episode finished after 126 timesteps with reward=-3.6351012684396267\n",
      "iter=8300\tepsilon=0.050\n",
      "Current score(mean over 3) = -141.792\n"
     ]
    },
    {
     "name": "stderr",
     "output_type": "stream",
     "text": [
      " 34%|███▎      | 8399/25000 [20:43<40:58,  6.75it/s][2017-12-08 21:12:21,182] Making new env: LunarLander-v2\n",
      "[2017-12-08 21:12:21,185] Clearing 2 monitor files from previous run (because force=True was provided)\n"
     ]
    },
    {
     "name": "stdout",
     "output_type": "stream",
     "text": [
      "Episode finished after 249 timesteps with reward=-190.6516232090582\n",
      "Episode finished after 261 timesteps with reward=-182.04481597031116\n"
     ]
    },
    {
     "name": "stderr",
     "output_type": "stream",
     "text": [
      "[2017-12-08 21:12:23,502] Finished writing results. You can upload them to the scoreboard via gym.upload('/home/anatoly/ML/Ml-mipt/Ml-mipt/2_semester/hw-5/records')\n",
      " 34%|███▎      | 8400/25000 [20:46<41:02,  6.74it/s]"
     ]
    },
    {
     "name": "stdout",
     "output_type": "stream",
     "text": [
      "Episode finished after 480 timesteps with reward=-149.8267264883523\n",
      "iter=8400\tepsilon=0.050\n",
      "Current score(mean over 3) = -174.174\n"
     ]
    },
    {
     "name": "stderr",
     "output_type": "stream",
     "text": [
      " 34%|███▍      | 8499/25000 [21:05<40:57,  6.72it/s][2017-12-08 21:12:43,092] Making new env: LunarLander-v2\n",
      "[2017-12-08 21:12:43,094] Clearing 2 monitor files from previous run (because force=True was provided)\n"
     ]
    },
    {
     "name": "stdout",
     "output_type": "stream",
     "text": [
      "Episode finished after 729 timesteps with reward=-227.4765149833466\n",
      "Episode finished after 339 timesteps with reward=-77.14100436298995\n"
     ]
    },
    {
     "name": "stderr",
     "output_type": "stream",
     "text": [
      "[2017-12-08 21:12:46,542] Finished writing results. You can upload them to the scoreboard via gym.upload('/home/anatoly/ML/Ml-mipt/Ml-mipt/2_semester/hw-5/records')\n",
      " 34%|███▍      | 8501/25000 [21:09<41:03,  6.70it/s]"
     ]
    },
    {
     "name": "stdout",
     "output_type": "stream",
     "text": [
      "Episode finished after 301 timesteps with reward=-132.67434395828903\n",
      "iter=8500\tepsilon=0.050\n",
      "Current score(mean over 3) = -145.764\n"
     ]
    },
    {
     "name": "stderr",
     "output_type": "stream",
     "text": [
      " 34%|███▍      | 8599/25000 [21:27<40:55,  6.68it/s][2017-12-08 21:13:04,570] Making new env: LunarLander-v2\n",
      "[2017-12-08 21:13:04,572] Clearing 2 monitor files from previous run (because force=True was provided)\n"
     ]
    },
    {
     "name": "stdout",
     "output_type": "stream",
     "text": [
      "Episode finished after 296 timesteps with reward=-178.92977785539222\n",
      "Episode finished after 296 timesteps with reward=-166.24995396619545\n"
     ]
    },
    {
     "name": "stderr",
     "output_type": "stream",
     "text": [
      "[2017-12-08 21:13:07,887] Finished writing results. You can upload them to the scoreboard via gym.upload('/home/anatoly/ML/Ml-mipt/Ml-mipt/2_semester/hw-5/records')\n",
      " 34%|███▍      | 8601/25000 [21:30<41:01,  6.66it/s]"
     ]
    },
    {
     "name": "stdout",
     "output_type": "stream",
     "text": [
      "Episode finished after 810 timesteps with reward=82.27963665170586\n",
      "iter=8600\tepsilon=0.050\n",
      "Current score(mean over 3) = -87.633\n"
     ]
    },
    {
     "name": "stderr",
     "output_type": "stream",
     "text": [
      " 35%|███▍      | 8699/25000 [21:47<40:49,  6.66it/s][2017-12-08 21:13:24,461] Making new env: LunarLander-v2\n",
      "[2017-12-08 21:13:24,464] Clearing 2 monitor files from previous run (because force=True was provided)\n"
     ]
    },
    {
     "name": "stdout",
     "output_type": "stream",
     "text": [
      "Episode finished after 556 timesteps with reward=115.62138994111386\n",
      "Episode finished after 640 timesteps with reward=-203.9632953362148\n"
     ]
    },
    {
     "name": "stderr",
     "output_type": "stream",
     "text": [
      "[2017-12-08 21:13:27,794] Finished writing results. You can upload them to the scoreboard via gym.upload('/home/anatoly/ML/Ml-mipt/Ml-mipt/2_semester/hw-5/records')\n",
      " 35%|███▍      | 8701/25000 [21:50<40:55,  6.64it/s]"
     ]
    },
    {
     "name": "stdout",
     "output_type": "stream",
     "text": [
      "Episode finished after 195 timesteps with reward=-102.93536891836534\n",
      "iter=8700\tepsilon=0.050\n",
      "Current score(mean over 3) = -63.759\n"
     ]
    },
    {
     "name": "stderr",
     "output_type": "stream",
     "text": [
      " 35%|███▌      | 8799/25000 [22:10<40:49,  6.61it/s][2017-12-08 21:13:47,623] Making new env: LunarLander-v2\n",
      "[2017-12-08 21:13:47,626] Clearing 2 monitor files from previous run (because force=True was provided)\n"
     ]
    },
    {
     "name": "stdout",
     "output_type": "stream",
     "text": [
      "Episode finished after 269 timesteps with reward=-135.36627419458006\n",
      "Episode finished after 558 timesteps with reward=-170.89023165591854\n"
     ]
    },
    {
     "name": "stderr",
     "output_type": "stream",
     "text": [
      "[2017-12-08 21:13:50,046] Finished writing results. You can upload them to the scoreboard via gym.upload('/home/anatoly/ML/Ml-mipt/Ml-mipt/2_semester/hw-5/records')\n",
      " 35%|███▌      | 8800/25000 [22:12<40:53,  6.60it/s]"
     ]
    },
    {
     "name": "stdout",
     "output_type": "stream",
     "text": [
      "Episode finished after 363 timesteps with reward=-144.28783458043168\n",
      "iter=8800\tepsilon=0.050\n",
      "Current score(mean over 3) = -150.181\n"
     ]
    },
    {
     "name": "stderr",
     "output_type": "stream",
     "text": [
      " 36%|███▌      | 8899/25000 [22:34<40:50,  6.57it/s][2017-12-08 21:14:11,801] Making new env: LunarLander-v2\n",
      "[2017-12-08 21:14:11,805] Clearing 2 monitor files from previous run (because force=True was provided)\n"
     ]
    },
    {
     "name": "stdout",
     "output_type": "stream",
     "text": [
      "Episode finished after 331 timesteps with reward=-78.99589499539444\n",
      "Episode finished after 313 timesteps with reward=-149.24595144335373\n"
     ]
    },
    {
     "name": "stderr",
     "output_type": "stream",
     "text": [
      "[2017-12-08 21:14:15,569] Finished writing results. You can upload them to the scoreboard via gym.upload('/home/anatoly/ML/Ml-mipt/Ml-mipt/2_semester/hw-5/records')\n",
      " 36%|███▌      | 8901/25000 [22:38<40:57,  6.55it/s]"
     ]
    },
    {
     "name": "stdout",
     "output_type": "stream",
     "text": [
      "Episode finished after 1000 timesteps with reward=-142.20988368203433\n",
      "iter=8900\tepsilon=0.050\n",
      "Current score(mean over 3) = -123.484\n"
     ]
    },
    {
     "name": "stderr",
     "output_type": "stream",
     "text": [
      " 36%|███▌      | 8999/25000 [22:55<40:46,  6.54it/s][2017-12-08 21:14:33,504] Making new env: LunarLander-v2\n",
      "[2017-12-08 21:14:33,509] Clearing 2 monitor files from previous run (because force=True was provided)\n"
     ]
    },
    {
     "name": "stdout",
     "output_type": "stream",
     "text": [
      "Episode finished after 396 timesteps with reward=-126.97579036742783\n",
      "Episode finished after 722 timesteps with reward=-210.77528745862196\n"
     ]
    },
    {
     "name": "stderr",
     "output_type": "stream",
     "text": [
      "[2017-12-08 21:14:36,503] Finished writing results. You can upload them to the scoreboard via gym.upload('/home/anatoly/ML/Ml-mipt/Ml-mipt/2_semester/hw-5/records')\n",
      " 36%|███▌      | 9000/25000 [22:59<40:51,  6.53it/s]"
     ]
    },
    {
     "name": "stdout",
     "output_type": "stream",
     "text": [
      "Episode finished after 272 timesteps with reward=-63.17173705665728\n",
      "iter=9000\tepsilon=0.050\n",
      "Current score(mean over 3) = -133.641\n"
     ]
    },
    {
     "name": "stderr",
     "output_type": "stream",
     "text": [
      " 36%|███▋      | 9099/25000 [23:18<40:43,  6.51it/s][2017-12-08 21:14:55,917] Making new env: LunarLander-v2\n",
      "[2017-12-08 21:14:55,920] Clearing 2 monitor files from previous run (because force=True was provided)\n"
     ]
    },
    {
     "name": "stdout",
     "output_type": "stream",
     "text": [
      "Episode finished after 834 timesteps with reward=-231.5812863915167\n",
      "Episode finished after 501 timesteps with reward=124.68829076889358\n"
     ]
    },
    {
     "name": "stderr",
     "output_type": "stream",
     "text": [
      "[2017-12-08 21:15:00,750] Finished writing results. You can upload them to the scoreboard via gym.upload('/home/anatoly/ML/Ml-mipt/Ml-mipt/2_semester/hw-5/records')\n",
      " 36%|███▋      | 9100/25000 [23:23<40:52,  6.48it/s]"
     ]
    },
    {
     "name": "stdout",
     "output_type": "stream",
     "text": [
      "Episode finished after 500 timesteps with reward=-136.91942123160993\n",
      "iter=9100\tepsilon=0.050\n",
      "Current score(mean over 3) = -81.271\n"
     ]
    },
    {
     "name": "stderr",
     "output_type": "stream",
     "text": [
      " 37%|███▋      | 9199/25000 [23:44<40:46,  6.46it/s][2017-12-08 21:15:21,641] Making new env: LunarLander-v2\n",
      "[2017-12-08 21:15:21,644] Clearing 2 monitor files from previous run (because force=True was provided)\n"
     ]
    },
    {
     "name": "stdout",
     "output_type": "stream",
     "text": [
      "Episode finished after 543 timesteps with reward=-203.31667722470684\n"
     ]
    },
    {
     "name": "stderr",
     "output_type": "stream",
     "text": [
      "[2017-12-08 21:15:23,990] Finished writing results. You can upload them to the scoreboard via gym.upload('/home/anatoly/ML/Ml-mipt/Ml-mipt/2_semester/hw-5/records')\n",
      " 37%|███▋      | 9200/25000 [23:46<40:50,  6.45it/s]"
     ]
    },
    {
     "name": "stdout",
     "output_type": "stream",
     "text": [
      "Episode finished after 490 timesteps with reward=-209.03967956750688\n",
      "Episode finished after 148 timesteps with reward=-43.40823617999099\n",
      "iter=9200\tepsilon=0.050\n",
      "Current score(mean over 3) = -151.922\n"
     ]
    },
    {
     "name": "stderr",
     "output_type": "stream",
     "text": [
      " 37%|███▋      | 9299/25000 [24:05<40:41,  6.43it/s][2017-12-08 21:15:43,305] Making new env: LunarLander-v2\n",
      "[2017-12-08 21:15:43,308] Clearing 2 monitor files from previous run (because force=True was provided)\n"
     ]
    },
    {
     "name": "stdout",
     "output_type": "stream",
     "text": [
      "Episode finished after 1000 timesteps with reward=-40.3971097864833\n",
      "Episode finished after 535 timesteps with reward=191.14434226356624\n"
     ]
    },
    {
     "name": "stderr",
     "output_type": "stream",
     "text": [
      "[2017-12-08 21:15:49,113] Finished writing results. You can upload them to the scoreboard via gym.upload('/home/anatoly/ML/Ml-mipt/Ml-mipt/2_semester/hw-5/records')\n"
     ]
    },
    {
     "name": "stdout",
     "output_type": "stream",
     "text": [
      "Episode finished after 721 timesteps with reward=78.65409000216225\n",
      "iter=9300\tepsilon=0.050\n",
      "Current score(mean over 3) = 76.467\n",
      "You win!\n"
     ]
    }
   ],
   "source": [
    "from tqdm import trange\n",
    "\n",
    "for i in trange(25000):    \n",
    "    \n",
    "    #play\n",
    "    for _ in range(5):\n",
    "        pool.update(SEQ_LENGTH,append=True)\n",
    "    \n",
    "    #train\n",
    "    train_step()\n",
    "    \n",
    "    #update epsilon\n",
    "    epsilon = 0.05 + 0.95*np.exp(-epoch_counter/1000.)\n",
    "    action_layer.epsilon.set_value(np.float32(epsilon))\n",
    "    \n",
    "    #play a few games for evaluation\n",
    "    if epoch_counter%100==0:\n",
    "        rewards[epoch_counter] = np.mean(pool.evaluate(n_games=3,record_video=False))\n",
    "        print(\"iter=%i\\tepsilon=%.3f\"%(epoch_counter,action_layer.epsilon.get_value(),))\n",
    "        print(\"Current score(mean over %i) = %.3f\"%(3,np.mean(rewards[epoch_counter])))\n",
    "    \n",
    "        if rewards[epoch_counter] >= target_score:\n",
    "            print(\"You win!\")\n",
    "            break\n",
    "\n",
    "    \n",
    "    epoch_counter  +=1\n",
    "\n",
    "    \n",
    "# Time to drink some coffee!"
   ]
  },
  {
   "cell_type": "code",
   "execution_count": 19,
   "metadata": {},
   "outputs": [
    {
     "name": "stderr",
     "output_type": "stream",
     "text": [
      "/home/anatoly/anaconda3/lib/python3.6/site-packages/ipykernel_launcher.py:3: FutureWarning: pd.ewm_mean is deprecated for ndarrays and will be removed in a future version\n",
      "  This is separate from the ipykernel package so we can avoid doing imports until\n"
     ]
    },
    {
     "data": {
      "text/plain": [
       "[<matplotlib.lines.Line2D at 0x7f12b663b6d8>]"
      ]
     },
     "execution_count": 19,
     "metadata": {},
     "output_type": "execute_result"
    },
    {
     "data": {
      "image/png": "[encoded data removed]",
      "text/plain": [
       "<matplotlib.figure.Figure at 0x7f12c8c69e10>"
      ]
     },
     "metadata": {},
     "output_type": "display_data"
    }
   ],
   "source": [
    "from pandas import ewma\n",
    "iters,session_rewards=zip(*sorted(rewards.items(),key= lambda k: k))\n",
    "plt.plot(iters,ewma(np.array(session_rewards),span=10))"
   ]
  },
  {
   "cell_type": "code",
   "execution_count": 21,
   "metadata": {},
   "outputs": [
    {
     "name": "stderr",
     "output_type": "stream",
     "text": [
      "[2017-12-08 21:18:57,253] Making new env: LunarLander-v2\n",
      "[2017-12-08 21:18:57,258] Clearing 8 monitor files from previous run (because force=True was provided)\n",
      "[2017-12-08 21:18:57,262] Starting new video recorder writing to /home/anatoly/ML/Ml-mipt/Ml-mipt/2_semester/hw-5/records/openaigym.video.95.3429.video000000.mp4\n",
      "\n",
      "[2017-12-08 21:19:05,133] Starting new video recorder writing to /home/anatoly/ML/Ml-mipt/Ml-mipt/2_semester/hw-5/records/openaigym.video.95.3429.video000001.mp4\n",
      "\n"
     ]
    },
    {
     "name": "stdout",
     "output_type": "stream",
     "text": [
      "Episode finished after 469 timesteps with reward=-130.61901115056432\n",
      "Episode finished after 1000 timesteps with reward=-161.61570620538876\n",
      "Episode finished after 552 timesteps with reward=-168.53993711636912\n",
      "Episode finished after 293 timesteps with reward=-116.30454076281413\n",
      "Episode finished after 1000 timesteps with reward=-59.8531770772087\n",
      "Episode finished after 363 timesteps with reward=-128.60676988446977\n",
      "Episode finished after 156 timesteps with reward=-26.206797119623303\n"
     ]
    },
    {
     "name": "stderr",
     "output_type": "stream",
     "text": [
      "[2017-12-08 21:19:27,160] Starting new video recorder writing to /home/anatoly/ML/Ml-mipt/Ml-mipt/2_semester/hw-5/records/openaigym.video.95.3429.video000008.mp4\n",
      "\n"
     ]
    },
    {
     "name": "stdout",
     "output_type": "stream",
     "text": [
      "Episode finished after 440 timesteps with reward=-146.70270525431772\n",
      "Episode finished after 270 timesteps with reward=-40.71826597041215\n"
     ]
    },
    {
     "name": "stderr",
     "output_type": "stream",
     "text": [
      "[2017-12-08 21:19:32,499] Finished writing results. You can upload them to the scoreboard via gym.upload('/home/anatoly/ML/Ml-mipt/Ml-mipt/2_semester/hw-5/records')\n"
     ]
    },
    {
     "name": "stdout",
     "output_type": "stream",
     "text": [
      "Episode finished after 429 timesteps with reward=182.8406324859315\n",
      "average reward: [-130.61901115056432, -161.61570620538876, -168.53993711636912, -116.30454076281413, -59.853177077208699, -128.60676988446977, -26.206797119623303, -146.70270525431772, -40.718265970412148, 182.84063248593151]\n"
     ]
    }
   ],
   "source": [
    "final_reward = pool.evaluate(n_games=10,save_path=\"./records\",record_video=True)\n",
    "\n",
    "print(\"average reward:\",final_reward)\n",
    "\n",
    "video_names = list(filter(lambda s:s.endswith(\".mp4\"),os.listdir(\"./records/\")))\n",
    "\n",
    "for video_name in video_names:\n",
    "    HTML(\"\"\"\n",
    "    <video width=\"640\" height=\"480\" controls>\n",
    "      <source src=\"{}\" type=\"video/mp4\">\n",
    "    </video>\n",
    "    \"\"\".format(\"./records/\"+video_name)) #this may or may not be _last_ video. Try other indices"
   ]
  },
  {
   "cell_type": "code",
   "execution_count": null,
   "metadata": {
    "collapsed": true
   },
   "outputs": [],
   "source": []
  }
 ],
 "metadata": {
  "kernelspec": {
   "display_name": "Python 3",
   "language": "python",
   "name": "python3"
  },
  "language_info": {
   "codemirror_mode": {
    "name": "ipython",
    "version": 3
   },
   "file_extension": ".py",
   "mimetype": "text/x-python",
   "name": "python",
   "nbconvert_exporter": "python",
   "pygments_lexer": "ipython3",
   "version": "3.6.3"
  }
 },
 "nbformat": 4,
 "nbformat_minor": 1
}
